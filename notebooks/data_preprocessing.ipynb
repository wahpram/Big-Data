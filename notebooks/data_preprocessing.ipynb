{
 "cells": [
  {
   "cell_type": "markdown",
   "metadata": {},
   "source": [
    "# Import Library"
   ]
  },
  {
   "cell_type": "code",
   "execution_count": null,
   "metadata": {},
   "outputs": [],
   "source": [
    "import pandas as pd\n",
    "import matplotlib.pyplot as plt\n",
    "import matplotlib.ticker as ticker\n",
    "import matplotlib as mpl\n",
    "import seaborn as sns\n",
    "import numpy as np \n",
    "import re\n",
    "import os\n",
    "from pymongo.mongo_client import MongoClient\n",
    "from pymongo.server_api import ServerApi\n",
    "from datetime import datetime, timedelta"
   ]
  },
  {
   "cell_type": "markdown",
   "metadata": {},
   "source": [
    "# Visualization Style"
   ]
  },
  {
   "cell_type": "code",
   "execution_count": null,
   "metadata": {},
   "outputs": [],
   "source": [
    "formatter = ticker.StrMethodFormatter('Rp.{x:,.0f}')\n",
    "\n",
    "sns.set_theme(style='darkgrid')\n",
    "sns.set_palette(\"deep\")\n",
    "mpl.rcParams['font.family'] = 'sans'\n",
    "mpl.rcParams['font.size'] = 12\n",
    "mpl.rcParams['axes.titlesize'] = 16\n",
    "mpl.rcParams['axes.labelsize'] = 14\n",
    "mpl.rcParams['xtick.labelsize'] = 10\n",
    "mpl.rcParams['ytick.labelsize'] = 10"
   ]
  },
  {
   "cell_type": "markdown",
   "metadata": {},
   "source": [
    "# Data Collecting"
   ]
  },
  {
   "cell_type": "markdown",
   "metadata": {},
   "source": [
    "- Import system path"
   ]
  },
  {
   "cell_type": "code",
   "execution_count": null,
   "metadata": {},
   "outputs": [],
   "source": [
    "import sys\n",
    "sys.path.append('..')"
   ]
  },
  {
   "cell_type": "markdown",
   "metadata": {},
   "source": [
    "- Import module"
   ]
  },
  {
   "cell_type": "code",
   "execution_count": null,
   "metadata": {},
   "outputs": [],
   "source": [
    "from scripts import get_data_from_mongo"
   ]
  },
  {
   "cell_type": "markdown",
   "metadata": {},
   "source": [
    "- Get Data from MongoDB"
   ]
  },
  {
   "cell_type": "code",
   "execution_count": null,
   "metadata": {},
   "outputs": [],
   "source": [
    "df_import = get_data_from_mongo.get_data_mongo('tanah_bali_raw')\n",
    "df_import = pd.DataFrame(df_import)"
   ]
  },
  {
   "cell_type": "code",
   "execution_count": null,
   "metadata": {},
   "outputs": [],
   "source": [
    "df = df_import.copy()\n",
    "df.head()"
   ]
  },
  {
   "cell_type": "markdown",
   "metadata": {},
   "source": [
    "# Data Understanding"
   ]
  },
  {
   "cell_type": "markdown",
   "metadata": {},
   "source": [
    "### Check Dataframe Dimension"
   ]
  },
  {
   "cell_type": "code",
   "execution_count": null,
   "metadata": {},
   "outputs": [],
   "source": [
    "df.shape"
   ]
  },
  {
   "cell_type": "code",
   "execution_count": null,
   "metadata": {},
   "outputs": [],
   "source": [
    "df.columns"
   ]
  },
  {
   "cell_type": "code",
   "execution_count": null,
   "metadata": {},
   "outputs": [],
   "source": [
    "df.info()"
   ]
  },
  {
   "cell_type": "markdown",
   "metadata": {},
   "source": [
    "# Data Preprocessing"
   ]
  },
  {
   "cell_type": "markdown",
   "metadata": {},
   "source": [
    "### Handling Missing Value"
   ]
  },
  {
   "cell_type": "code",
   "execution_count": null,
   "metadata": {},
   "outputs": [],
   "source": [
    "df.isna().sum().to_frame().T"
   ]
  },
  {
   "cell_type": "markdown",
   "metadata": {},
   "source": [
    "### Handling Duplicate Data"
   ]
  },
  {
   "cell_type": "markdown",
   "metadata": {},
   "source": [
    "- Drop _id Column"
   ]
  },
  {
   "cell_type": "code",
   "execution_count": null,
   "metadata": {},
   "outputs": [],
   "source": [
    "df = df.drop(columns='_id', axis=1)\n",
    "df.head()"
   ]
  },
  {
   "cell_type": "markdown",
   "metadata": {},
   "source": [
    "- Check Duplicate Data"
   ]
  },
  {
   "cell_type": "code",
   "execution_count": null,
   "metadata": {},
   "outputs": [],
   "source": [
    "dup_data = df.duplicated().sum()\n",
    "print(f'Jumlah data duplicate: {dup_data}')\n",
    "print(f'Dari total {df.shape[0]} data')"
   ]
  },
  {
   "cell_type": "code",
   "execution_count": null,
   "metadata": {},
   "outputs": [],
   "source": [
    "df[df.duplicated()]"
   ]
  },
  {
   "cell_type": "markdown",
   "metadata": {},
   "source": [
    "- Remove Duplicate Data"
   ]
  },
  {
   "cell_type": "code",
   "execution_count": null,
   "metadata": {},
   "outputs": [],
   "source": [
    "df.drop_duplicates(keep='first', inplace=True)\n",
    "\n",
    "dup_data = df.duplicated().sum()\n",
    "print(f'Jumlah data duplicate: {dup_data}')\n",
    "print(f'Dari total {df.shape[0]} data')"
   ]
  },
  {
   "cell_type": "markdown",
   "metadata": {},
   "source": [
    "- Remove Unnessecary Data"
   ]
  },
  {
   "cell_type": "code",
   "execution_count": null,
   "metadata": {},
   "outputs": [],
   "source": [
    "df = df.drop(columns='title', axis=1)\n",
    "df.columns"
   ]
  },
  {
   "cell_type": "markdown",
   "metadata": {},
   "source": [
    "### Cleaning Date Column"
   ]
  },
  {
   "cell_type": "markdown",
   "metadata": {},
   "source": [
    "- Check Date Column"
   ]
  },
  {
   "cell_type": "code",
   "execution_count": null,
   "metadata": {},
   "outputs": [],
   "source": [
    "df['date'].head().to_frame()"
   ]
  },
  {
   "cell_type": "markdown",
   "metadata": {},
   "source": [
    "- Convert String to Datetime Data Type"
   ]
  },
  {
   "cell_type": "code",
   "execution_count": null,
   "metadata": {},
   "outputs": [],
   "source": [
    "import locale\n",
    "locale.setlocale(locale.LC_TIME, 'id_ID.UTF-8')\n",
    "\n",
    "def convert_relative_data(description, timestamp):\n",
    "    match = re.search(r'(\\d+) (menit|jam|hari|minggu|bulan)', description)\n",
    "    if not match:\n",
    "        return None\n",
    "    \n",
    "    value = int(match.group(1))\n",
    "    unit = match.group(2)\n",
    "    \n",
    "    if unit == 'menit':\n",
    "        delta = timedelta(minutes=value)\n",
    "    elif unit == 'jam':\n",
    "        delta = timedelta(hours=value)\n",
    "    elif unit == 'hari':\n",
    "        delta = timedelta(days=value)\n",
    "    elif unit == 'minggu':\n",
    "        delta = timedelta(weeks=value)\n",
    "    elif unit == 'bulan':\n",
    "        delta = timedelta(days=30 * value)\n",
    "    else:\n",
    "        delta = timedelta()\n",
    "    \n",
    "    date = timestamp - delta\n",
    "    return date\n",
    "\n",
    "def convert_absolute_date(text):\n",
    "    date_pattern = r'\\b\\d{2}\\s\\w+\\s\\d{4}\\b'\n",
    "    match = re.search(date_pattern, text)\n",
    "    if match:\n",
    "        return datetime.strptime(match.group(0), '%d %B %Y')\n",
    "    return None\n",
    "\n",
    "def convert_to_timestamp(row):\n",
    "    description = row['date']\n",
    "    timestamp = row['timestamp']\n",
    "    \n",
    "    if 'yang lalu' in description:\n",
    "        return convert_relative_data(description, timestamp)\n",
    "    else:\n",
    "        return convert_absolute_date(description)"
   ]
  },
  {
   "cell_type": "code",
   "execution_count": null,
   "metadata": {},
   "outputs": [],
   "source": [
    "df['converted_date'] = df.apply(convert_to_timestamp, axis=1).dt.strftime('%Y-%m-%d')\n",
    "\n",
    "df_cleaned_date = df.copy()\n",
    "df_cleaned_date.head()"
   ]
  },
  {
   "cell_type": "code",
   "execution_count": null,
   "metadata": {},
   "outputs": [],
   "source": [
    "df_cleaned_date.sort_values(by='converted_date', ascending=True)"
   ]
  },
  {
   "cell_type": "markdown",
   "metadata": {},
   "source": [
    "- Backup Dataframe"
   ]
  },
  {
   "cell_type": "code",
   "execution_count": null,
   "metadata": {},
   "outputs": [],
   "source": [
    "df = df_cleaned_date.copy()\n",
    "df.head()"
   ]
  },
  {
   "cell_type": "markdown",
   "metadata": {},
   "source": [
    "- Detele Converted_Date and Timestamp Columns "
   ]
  },
  {
   "cell_type": "code",
   "execution_count": null,
   "metadata": {},
   "outputs": [],
   "source": [
    "df['date'] = df['converted_date']\n",
    "df =df.drop(columns=['timestamp', 'converted_date'])\n",
    "\n",
    "df.head()"
   ]
  },
  {
   "cell_type": "markdown",
   "metadata": {},
   "source": [
    "### Cleaning Land Area Column"
   ]
  },
  {
   "cell_type": "markdown",
   "metadata": {},
   "source": [
    "- Check Land Area Column"
   ]
  },
  {
   "cell_type": "code",
   "execution_count": null,
   "metadata": {},
   "outputs": [],
   "source": [
    "df['land_area'].head()"
   ]
  },
  {
   "cell_type": "markdown",
   "metadata": {},
   "source": [
    "- Convert String to Float Datatype"
   ]
  },
  {
   "cell_type": "code",
   "execution_count": null,
   "metadata": {},
   "outputs": [],
   "source": [
    "df['numeric_land_area'] = df['land_area'].str.replace(r'm²', '', regex=True).astype(float)\n",
    "\n",
    "df_cleaned_land_area = df.copy()\n",
    "\n",
    "df.head()"
   ]
  },
  {
   "cell_type": "markdown",
   "metadata": {},
   "source": [
    "- Backup Dataframe"
   ]
  },
  {
   "cell_type": "code",
   "execution_count": null,
   "metadata": {},
   "outputs": [],
   "source": [
    "df = df_cleaned_land_area.copy()\n",
    "\n",
    "df.head()"
   ]
  },
  {
   "cell_type": "markdown",
   "metadata": {},
   "source": [
    "- Delete Numeric_Land_Area Column"
   ]
  },
  {
   "cell_type": "code",
   "execution_count": null,
   "metadata": {},
   "outputs": [],
   "source": [
    "df['land_area'] = df['numeric_land_area']\n",
    "df = df.drop(columns='numeric_land_area', axis=1)\n",
    "\n",
    "df.head()"
   ]
  },
  {
   "cell_type": "markdown",
   "metadata": {},
   "source": [
    "### Cleaning Price Column"
   ]
  },
  {
   "cell_type": "markdown",
   "metadata": {},
   "source": [
    "- Check Price Column"
   ]
  },
  {
   "cell_type": "code",
   "execution_count": null,
   "metadata": {},
   "outputs": [],
   "source": [
    "df['price'].head()"
   ]
  },
  {
   "cell_type": "markdown",
   "metadata": {},
   "source": [
    "- Check Anomaly Value on Price"
   ]
  },
  {
   "cell_type": "code",
   "execution_count": null,
   "metadata": {},
   "outputs": [],
   "source": [
    "dirty_data = df[df['price'].str.contains('Miliar /m²')]\n",
    "dirty_data"
   ]
  },
  {
   "cell_type": "markdown",
   "metadata": {},
   "source": [
    "- Delete Anomaly Value"
   ]
  },
  {
   "cell_type": "code",
   "execution_count": null,
   "metadata": {},
   "outputs": [],
   "source": [
    "df = df.drop(dirty_data.index)\n",
    "df.head()"
   ]
  },
  {
   "cell_type": "code",
   "execution_count": null,
   "metadata": {},
   "outputs": [],
   "source": [
    "dirty_data = df[df['price'].str.contains('Miliar /m²')]\n",
    "dirty_data.count()"
   ]
  },
  {
   "cell_type": "markdown",
   "metadata": {},
   "source": [
    "- Change String to Float Datatype"
   ]
  },
  {
   "cell_type": "code",
   "execution_count": null,
   "metadata": {},
   "outputs": [],
   "source": [
    "def parse_price(price_str):\n",
    "    is_per_square_meter = \"/m²\" in price_str\n",
    "    \n",
    "    numeric_value = re.findall(r'[0-9,]+', price_str)\n",
    "    \n",
    "    if not numeric_value:\n",
    "        return None\n",
    "    \n",
    "    numeric_value = float(numeric_value[0].replace(',', '.'))\n",
    "    \n",
    "    if \"Triliun\" in price_str:\n",
    "        numeric_value *= 1_000_000_000_000\n",
    "    elif \"Miliar\" in price_str:\n",
    "        numeric_value *= 1_000_000_000\n",
    "    elif \"Juta\" in price_str:\n",
    "        numeric_value *= 1_000_000\n",
    "    elif \"Ribu\" in price_str:\n",
    "        numeric_value *= 1_000_000\n",
    "    \n",
    "    return is_per_square_meter, numeric_value"
   ]
  },
  {
   "cell_type": "code",
   "execution_count": null,
   "metadata": {},
   "outputs": [],
   "source": [
    "df['is_per_square'], df['price_numeric'] = zip(*df['price'].apply(parse_price))\n",
    "\n",
    "df['price_total'] = df.apply(lambda row: row['price_numeric'] * row['land_area'] if row['is_per_square'] else row['price_numeric'], axis=1).astype(float)\n",
    "df['price_per_m2'] = df.apply(lambda row: row['price_numeric'] if row['is_per_square'] else row['price_total'] / row['land_area'], axis=1).astype(float)\n",
    "\n",
    "df.head()"
   ]
  },
  {
   "cell_type": "markdown",
   "metadata": {},
   "source": [
    "- Check Value with Readable Columns"
   ]
  },
  {
   "cell_type": "code",
   "execution_count": null,
   "metadata": {},
   "outputs": [],
   "source": [
    "df['Price_Total_str'] = df['price_total'].apply(lambda x: f\"{float(x):,.0f}\")\n",
    "df['Price_per_m2_str'] = df['price_per_m2'].apply(lambda x: f\"{float(x):,.0f}\")\n",
    "\n",
    "df_cleaned_price = df.copy()\n",
    "\n",
    "df.head()"
   ]
  },
  {
   "cell_type": "markdown",
   "metadata": {},
   "source": [
    "- Backup Dataframe"
   ]
  },
  {
   "cell_type": "code",
   "execution_count": null,
   "metadata": {},
   "outputs": [],
   "source": [
    "df = df_cleaned_price.copy()\n",
    "df.head()"
   ]
  },
  {
   "cell_type": "markdown",
   "metadata": {},
   "source": [
    "- Delete Unnecessary Columns"
   ]
  },
  {
   "cell_type": "code",
   "execution_count": null,
   "metadata": {},
   "outputs": [],
   "source": [
    "df['price_per_m2'] = df['price_per_m2']\n",
    "df['price_total'] = df['price_total']\n",
    "\n",
    "df = df.drop(columns=['price', 'is_per_square', 'price_numeric', 'Price_Total_str', 'Price_per_m2_str'], axis=1)\n",
    "\n",
    "df.head()\n"
   ]
  },
  {
   "cell_type": "markdown",
   "metadata": {},
   "source": [
    "### Clean Address Column"
   ]
  },
  {
   "cell_type": "markdown",
   "metadata": {},
   "source": [
    "- Check Address Column"
   ]
  },
  {
   "cell_type": "code",
   "execution_count": null,
   "metadata": {},
   "outputs": [],
   "source": [
    "df['address'].head()"
   ]
  },
  {
   "cell_type": "markdown",
   "metadata": {},
   "source": [
    "- Split Address to Subdistrict and Regency Column"
   ]
  },
  {
   "cell_type": "code",
   "execution_count": null,
   "metadata": {},
   "outputs": [],
   "source": [
    "df[['subdistrict', 'regency']] = df['address'].str.split(',', n=1, expand=True)\n",
    "df.head()"
   ]
  },
  {
   "cell_type": "markdown",
   "metadata": {},
   "source": [
    "- Remove the withespace"
   ]
  },
  {
   "cell_type": "code",
   "execution_count": null,
   "metadata": {},
   "outputs": [],
   "source": [
    "df['subdistrict'] = df['subdistrict'].str.strip()\n",
    "df['regency'] = df['regency'].str.strip()\n",
    "df.head()"
   ]
  },
  {
   "cell_type": "markdown",
   "metadata": {},
   "source": [
    "- Check Unique Value of Regency Column"
   ]
  },
  {
   "cell_type": "code",
   "execution_count": null,
   "metadata": {},
   "outputs": [],
   "source": [
    "df['regency'].unique()"
   ]
  },
  {
   "cell_type": "markdown",
   "metadata": {},
   "source": [
    "- Check the Wrong Regency Value"
   ]
  },
  {
   "cell_type": "code",
   "execution_count": null,
   "metadata": {},
   "outputs": [],
   "source": [
    "df[df['regency'] == 'Nusa Lembongan']"
   ]
  },
  {
   "cell_type": "code",
   "execution_count": null,
   "metadata": {},
   "outputs": [],
   "source": [
    "df[df['regency'] == 'Semarapura']"
   ]
  },
  {
   "cell_type": "markdown",
   "metadata": {},
   "source": [
    "- Change the Wrong Regency"
   ]
  },
  {
   "cell_type": "code",
   "execution_count": null,
   "metadata": {},
   "outputs": [],
   "source": [
    "swap = (df['subdistrict'] == 'Klungkung') & (df['regency'] == 'Nusa Lembongan')\n",
    "\n",
    "df.loc[swap, ['subdistrict', 'regency']] = ['Nusa Lembongan', 'Klungkung']\n",
    "df['regency'] = df['regency'].replace('Semarapura', 'Klungkung')\n",
    "\n",
    "df_cleaned_address = df.copy()\n",
    "df['regency'].unique()"
   ]
  },
  {
   "cell_type": "markdown",
   "metadata": {},
   "source": [
    "- Backup Dataframe"
   ]
  },
  {
   "cell_type": "code",
   "execution_count": null,
   "metadata": {},
   "outputs": [],
   "source": [
    "df = df_cleaned_address.copy()\n",
    "df = df.drop(columns='address', axis=1)\n",
    "\n",
    "df.head()"
   ]
  },
  {
   "cell_type": "markdown",
   "metadata": {},
   "source": [
    "### Cleaning Subdistrict Column"
   ]
  },
  {
   "cell_type": "markdown",
   "metadata": {},
   "source": [
    "- Cleaning Subdistrict in Denpasar"
   ]
  },
  {
   "cell_type": "code",
   "execution_count": null,
   "metadata": {},
   "outputs": [],
   "source": [
    "df[df['regency'] == 'Denpasar']['subdistrict'].unique()"
   ]
  },
  {
   "cell_type": "code",
   "execution_count": null,
   "metadata": {},
   "outputs": [],
   "source": [
    "denpasar_utara_map = [\n",
    "    \"Dangin Puri Kaja\",\n",
    "    \"Dangin Puri Kangin\",\n",
    "    \"Dangin Puri Kauh\",\n",
    "    \"Dauh Puri Kaja\",\n",
    "    \"Peguyangan Kaja\",\n",
    "    \"Peguyangan Kangin\",\n",
    "    \"Pemecutan Kaja\",\n",
    "    \"Ubung Kaja\",\n",
    "    \"Peguyangan\",\n",
    "    \"Tonja\",\n",
    "    \"Ubung\",\n",
    "    \"Gatot Subroto\", \n",
    "    \"Danginpuri Kangin\", \n",
    "    \"Dauhpuri Kaja\", \n",
    "    \"Danginpuri Kaja\"\n",
    "]\n",
    "\n",
    "df.loc[(df['subdistrict'].isin(denpasar_utara_map)) & (df['regency'] == 'Denpasar'), 'subdistrict'] = 'Denpasar Utara'"
   ]
  },
  {
   "cell_type": "code",
   "execution_count": null,
   "metadata": {},
   "outputs": [],
   "source": [
    "denpasar_selatan_map = [\n",
    "    \"Pemogan\", \n",
    "    \"Sanur Kaja\", \n",
    "    \"Sanur Kauh\", \n",
    "    \"Sidakarya\", \n",
    "    \"Panjer\", \n",
    "    \"Pedungan\", \n",
    "    \"Renon\", \n",
    "    \"Sanur\", \n",
    "    \"Serangan\", \n",
    "    \"Sesetan\",\n",
    "    \"Pesanggaran\", \n",
    "    \"Suwung\",\n",
    "    \"Gelogor Carik\"\n",
    "\n",
    "]\n",
    "\n",
    "df.loc[(df['subdistrict'].isin(denpasar_selatan_map)) & (df['regency'] == 'Denpasar'), 'subdistrict'] = 'Denpasar Selatan'"
   ]
  },
  {
   "cell_type": "code",
   "execution_count": null,
   "metadata": {},
   "outputs": [],
   "source": [
    "denpasar_timur_map = [\n",
    "    \"Dangin Puri Klod\", \n",
    "    \"Kesiman Kertalangu\", \n",
    "    \"Kesiman Petilan\", \n",
    "    \"Penatih Dangin Puri\", \n",
    "    \"Sumerta Kaja\", \n",
    "    \"Sumerta Kauh\", \n",
    "    \"Sumerta Klod/Kelod\", \n",
    "    \"Dangin Puri\", \n",
    "    \"Kesiman\", \n",
    "    \"Penatih\", \n",
    "    \"Sumerta\",\n",
    "    \"Danginpuri Kelod\", \n",
    "    \"Penatihdanginpuri\", \n",
    "    \"Padanggalak\", \n",
    "    \"Sumerta Kelod\",\n",
    "    \"Danginpuri\"\n",
    "]\n",
    "\n",
    "df.loc[(df['subdistrict'].isin(denpasar_timur_map)) & (df['regency'] == 'Denpasar'), 'subdistrict'] = 'Denpasar Timur'"
   ]
  },
  {
   "cell_type": "code",
   "execution_count": null,
   "metadata": {},
   "outputs": [],
   "source": [
    "denpasar_barat_map = [\n",
    "    \"Dauh Puri Kangin\", \n",
    "    \"Dauh Puri Kauh\", \n",
    "    \"Dauh Puri Klod\", \n",
    "    \"Padang Sambian Kaja\", \n",
    "    \"Padang Sambian Klod\", \n",
    "    \"Pemecutan Klod\", \n",
    "    \"Tegal Harum\", \n",
    "    \"Tegal Kerta\", \n",
    "    \"Dauh Puri\", \n",
    "    \"Padang Sambian\", \n",
    "    \"Pemecutan\",\n",
    "    \"Mahendradata\", \n",
    "    \"Padangsambian Kaja\", \n",
    "    \"Padangsambian\", \n",
    "    \"Padangsambian Kelod\", \n",
    "    \"Pemecutan Kelod\", \n",
    "    \"Dauhpuri Kauh\", \n",
    "    \"Dauhpuri\", \n",
    "    \"Dauhpuri Kelod\", \n",
    "    \"Tegalkertha\", \n",
    "    \"Gunung soputan\"\n",
    "]\n",
    "\n",
    "\n",
    "df.loc[(df['subdistrict'].isin(denpasar_barat_map)) & (df['regency'] == 'Denpasar'), 'subdistrict'] = 'Denpasar Barat'"
   ]
  },
  {
   "cell_type": "code",
   "execution_count": null,
   "metadata": {},
   "outputs": [],
   "source": [
    "df[df['regency'] == 'Denpasar']['subdistrict'].unique()"
   ]
  },
  {
   "cell_type": "code",
   "execution_count": null,
   "metadata": {},
   "outputs": [],
   "source": [
    "dalung_map = ['Dalung Permai']\n",
    "\n",
    "df.loc[(df['subdistrict'].isin(dalung_map)) & (df['regency'] == 'Denpasar'), 'regency'] = 'Badung'"
   ]
  },
  {
   "cell_type": "code",
   "execution_count": null,
   "metadata": {},
   "outputs": [],
   "source": [
    "df[df['regency'] == 'Denpasar']['subdistrict'].unique()"
   ]
  },
  {
   "cell_type": "markdown",
   "metadata": {},
   "source": [
    "- Subdistrict in Badung Regency"
   ]
  },
  {
   "cell_type": "code",
   "execution_count": null,
   "metadata": {},
   "outputs": [],
   "source": [
    "df[df['regency'] == 'Badung']['subdistrict'].unique()"
   ]
  },
  {
   "cell_type": "code",
   "execution_count": null,
   "metadata": {},
   "outputs": [],
   "source": [
    "kuta_selatan_map = [\n",
    "    \"Pecatu\",\n",
    "    \"Ungasan\",\n",
    "    \"Kutuh\",\n",
    "    \"Benoa\",\n",
    "    \"Tanjung Benoa\",\n",
    "    \"Jimbaran\",\n",
    "    \"Nusa Dua\", \n",
    "    \"Goa Gong\", \n",
    "    \"Uluwatu\", \n",
    "    \"Balangan\", \n",
    "    \"Tundun Penyu\", \n",
    "    \"Mumbul\", \n",
    "    \"Puri Gading\", \n",
    "    \"Taman Griya\",\n",
    "    \"Bukit\"\n",
    "]\n",
    "\n",
    "\n",
    "df.loc[(df['subdistrict'].isin(kuta_selatan_map)) & (df['regency'] == 'Badung'), 'subdistrict'] = 'Kuta Selatan'"
   ]
  },
  {
   "cell_type": "code",
   "execution_count": null,
   "metadata": {},
   "outputs": [],
   "source": [
    "kuta_map = [\n",
    "    \"Kedonganan\",\n",
    "    \"Tuban\",\n",
    "    \"Kuta\",\n",
    "    \"Legian\",\n",
    "    \"Seminyak\",\n",
    "    \"Sunset Road\", \n",
    "    \"Dewi Sri\",\n",
    "    \"Ngurah Rai\",\n",
    "    \"Kartika Plaza\"\n",
    "]\n",
    "\n",
    "df.loc[(df['subdistrict'].isin(kuta_map)) & (df['regency'] == 'Badung'), 'subdistrict'] = 'Kuta'"
   ]
  },
  {
   "cell_type": "code",
   "execution_count": null,
   "metadata": {},
   "outputs": [],
   "source": [
    "kuta_utara_map = [\n",
    "    \"Canggu\",\n",
    "    \"Dalung\",\n",
    "    \"Tibubeneng\",\n",
    "    \"Kerobokan\",\n",
    "    \"Kerobokan Kelod\",\n",
    "    \"Kerobokan Kaja\",\n",
    "    \"Umalas\",\n",
    "    \"Batu Belig\",\n",
    "    \"Petitenget\", \n",
    "    \"Semer\",\n",
    "    \"Gunung Salak\",\n",
    "    \"Dalung Permai\"\n",
    "]\n",
    "\n",
    "df.loc[(df['subdistrict'].isin(kuta_utara_map)) & (df['regency'] == 'Badung'), 'subdistrict'] = 'Kuta Utara'"
   ]
  },
  {
   "cell_type": "code",
   "execution_count": null,
   "metadata": {},
   "outputs": [],
   "source": [
    "mengwi_map = [\n",
    "    \"Baha\",\n",
    "    \"Buduk\",\n",
    "    \"Cemagi\",\n",
    "    \"Gulingan\",\n",
    "    \"Kekeran\",\n",
    "    \"Kuwum\",\n",
    "    \"Mengwi\",\n",
    "    \"Mengwitani\",\n",
    "    \"Munggu\",\n",
    "    \"Penarungan\",\n",
    "    \"Pererenan\",\n",
    "    \"Sembung\",\n",
    "    \"Sobangan\",\n",
    "    \"Tumbak\",\n",
    "    \"Bayuh Werdi\",\n",
    "    \"Bhuwana\",\n",
    "    \"Abianbase\",\n",
    "    \"Kapal\",\n",
    "    \"Lukluk\",\n",
    "    \"Sading\",\n",
    "    \"Sempidi\"\n",
    "]\n",
    "\n",
    "df.loc[(df['subdistrict'].isin(mengwi_map)) & (df['regency'] == 'Badung'), 'subdistrict'] = 'Mengwi'"
   ]
  },
  {
   "cell_type": "code",
   "execution_count": null,
   "metadata": {},
   "outputs": [],
   "source": [
    "abiansemal_map = [\n",
    "    \"Abiansemal\",\n",
    "    \"Angantaka\",\n",
    "    \"Ayunan\",\n",
    "    \"Blahkiuh\",\n",
    "    \"Bongkasa\",\n",
    "    \"Pertiwi\",\n",
    "    \"Darmasaba\",\n",
    "    \"Dauh Yeh Cani\",\n",
    "    \"Jagapati\",\n",
    "    \"Mambal\",\n",
    "    \"Mekar Bhuana\",\n",
    "    \"Punggul\",\n",
    "    \"Sangeh\",\n",
    "    \"Sedang\",\n",
    "    \"Selat\",\n",
    "    \"Sibang Gede\",\n",
    "    \"Sibang Kaja\",\n",
    "    \"Taman\"\n",
    "]\n",
    "\n",
    "df.loc[(df['subdistrict'].isin(abiansemal_map)) & (df['regency'] == 'Badung'), 'subdistrict'] = 'Abiansemal'"
   ]
  },
  {
   "cell_type": "code",
   "execution_count": null,
   "metadata": {},
   "outputs": [],
   "source": [
    "petang_map =[\n",
    "    \"Belok\",\n",
    "    \"Carangsari\",\n",
    "    \"Getasan\",\n",
    "    \"Pangsan\",\n",
    "    \"Pelaga\",\n",
    "    \"Petang\",\n",
    "    \"Sulangai\"\n",
    "]\n",
    "\n",
    "df.loc[(df['subdistrict'].isin(petang_map)) & (df['regency'] == 'Badung'), 'subdistrict'] = 'Petang'"
   ]
  },
  {
   "cell_type": "code",
   "execution_count": null,
   "metadata": {},
   "outputs": [],
   "source": [
    "blahbatuh_map = [\n",
    "    \"Bedulu\",\n",
    "    \"Belega\",\n",
    "    \"Blahbatuh\",\n",
    "    \"Bona\",\n",
    "    \"Buruan\",\n",
    "    \"Keramas\",\n",
    "    \"Medahan\",\n",
    "    \"Pering\",\n",
    "    \"Saba\"\n",
    "]\n",
    "\n",
    "df.loc[(df['subdistrict'].isin(blahbatuh_map)) & (df['regency'] == 'Gianyar'), 'subdistrict'] = 'Blahbatuh'"
   ]
  },
  {
   "cell_type": "code",
   "execution_count": null,
   "metadata": {},
   "outputs": [],
   "source": [
    "df[df['regency'] == 'Badung']['subdistrict'].unique()"
   ]
  },
  {
   "cell_type": "code",
   "execution_count": null,
   "metadata": {},
   "outputs": [],
   "source": [
    "out_badung = ['Nyanyi',\n",
    "              'Lombok',\n",
    "              'Pesanggaran',\n",
    "              'Klungkung']\n",
    "\n",
    "drop_badung = df[(df['regency'] == 'Badung') & (df['subdistrict'].isin(out_badung))].index\n",
    "df = df.drop(drop_badung)"
   ]
  },
  {
   "cell_type": "code",
   "execution_count": null,
   "metadata": {},
   "outputs": [],
   "source": [
    "df[df['regency'] == 'Badung']['subdistrict'].unique()"
   ]
  },
  {
   "cell_type": "markdown",
   "metadata": {},
   "source": [
    "- Subdistrict in Gianyar Regency"
   ]
  },
  {
   "cell_type": "code",
   "execution_count": null,
   "metadata": {},
   "outputs": [],
   "source": [
    "df[df['regency'] == 'Gianyar']['subdistrict'].unique()"
   ]
  },
  {
   "cell_type": "code",
   "execution_count": null,
   "metadata": {},
   "outputs": [],
   "source": [
    "gianyar_map = [\n",
    "    \"Bakbakan\",\n",
    "    \"Lebih\",\n",
    "    \"Petak\",\n",
    "    \"Petak Kaja\",\n",
    "    \"Serongga\",\n",
    "    \"Siangan\",\n",
    "    \"Sidan\",\n",
    "    \"Sumita\",\n",
    "    \"Suwat\",\n",
    "    \"Tegal\",\n",
    "    \"Tugu\",\n",
    "    \"Temesi\",\n",
    "    \"Tulikup\",\n",
    "    \"Abianbase\",\n",
    "    \"Beng\",\n",
    "    \"Bitera\",\n",
    "    \"Gianyar\",\n",
    "    \"Samplangan\",\n",
    "    \"Pantai Lebih\",\n",
    "    \"Manggis\"\n",
    "]\n",
    "\n",
    "df.loc[(df['subdistrict'].isin(gianyar_map)) & (df['regency'] == 'Gianyar'), 'subdistrict'] = 'Gianyar'"
   ]
  },
  {
   "cell_type": "code",
   "execution_count": null,
   "metadata": {},
   "outputs": [],
   "source": [
    "payangan_map = [\n",
    "    \"Bresela\",\n",
    "    \"Buahan\",\n",
    "    \"Buahan Kaja\",\n",
    "    \"Bukian\",\n",
    "    \"Kelusa\",\n",
    "    \"Kerta\",\n",
    "    \"Melinggih\",\n",
    "    \"Melinggih Kelod\",\n",
    "    \"Puhu\"\n",
    "]\n",
    "\n",
    "df.loc[(df['subdistrict'].isin(payangan_map)) & (df['regency'] == 'Gianyar'), 'subdistrict'] = 'Payangan'"
   ]
  },
  {
   "cell_type": "code",
   "execution_count": null,
   "metadata": {},
   "outputs": [],
   "source": [
    "sukawati_map = [\n",
    "    \"Batuan\",\n",
    "    \"Batuan Kaler\",\n",
    "    \"Batubulan\",\n",
    "    \"Batubulan Kangin\",\n",
    "    \"Celuk\",\n",
    "    \"Guwang\",\n",
    "    \"Kemenuh\",\n",
    "    \"Ketewel\",\n",
    "    \"Singapadu\",\n",
    "    \"Singapadu Kaler\",\n",
    "    \"Singapadu Tengah\",\n",
    "    \"Sukawati\"\n",
    "]\n",
    "\n",
    "df.loc[(df['subdistrict'].isin(sukawati_map)) & (df['regency'] == 'Gianyar'), 'subdistrict'] = 'Sukawati'"
   ]
  },
  {
   "cell_type": "code",
   "execution_count": null,
   "metadata": {},
   "outputs": [],
   "source": [
    "tampaksiring_map = [\n",
    "    \"Manukaya\",\n",
    "    \"Pejeng\",\n",
    "    \"Pejeng Kaja\",\n",
    "    \"Pejeng Kangin\",\n",
    "    \"Pejeng Kawan\",\n",
    "    \"Pejeng Kelod\",\n",
    "    \"Sanding\",\n",
    "    \"Tampaksiring\",\n",
    "    \"Pejengkawan\"\n",
    "]\n",
    "\n",
    "df.loc[(df['subdistrict'].isin(tampaksiring_map)) & (df['regency'] == 'Gianyar'), 'subdistrict'] = 'Tampaksiring'"
   ]
  },
  {
   "cell_type": "code",
   "execution_count": null,
   "metadata": {},
   "outputs": [],
   "source": [
    "tegallalang_map = [\n",
    "    \"Kedisan\",\n",
    "    \"Keliki\",\n",
    "    \"Kendran\",\n",
    "    \"Pupuan\",\n",
    "    \"Sebatu\",\n",
    "    \"Taro\",\n",
    "    \"Tegallalang\",\n",
    "    \"Kenderan\", \n",
    "    \"Kedisah\"\n",
    "]\n",
    "\n",
    "df.loc[(df['subdistrict'].isin(tegallalang_map)) & (df['regency'] == 'Gianyar'), 'subdistrict'] = 'Tegallalang'"
   ]
  },
  {
   "cell_type": "code",
   "execution_count": null,
   "metadata": {},
   "outputs": [],
   "source": [
    "ubud_map = [\n",
    "    \"Kedewatan\",\n",
    "    \"Lodtunduh\",\n",
    "    \"Mas\",\n",
    "    \"Peliatan\",\n",
    "    \"Petulu\",\n",
    "    \"Sayan\",\n",
    "    \"Singakerta\",\n",
    "    \"Ubud\",\n",
    "    \"Sanggingan\",\n",
    "    \"Singekerta\"\n",
    "]\n",
    "\n",
    "df.loc[(df['subdistrict'].isin(ubud_map)) & (df['regency'] == 'Gianyar'), 'subdistrict'] = 'Ubud'"
   ]
  },
  {
   "cell_type": "code",
   "execution_count": null,
   "metadata": {},
   "outputs": [],
   "source": [
    "blahbatuh_map = [\n",
    "    \"Belege\", \n",
    "    \"Cucukan\"\n",
    "]\n",
    "\n",
    "df.loc[(df['subdistrict'].isin(blahbatuh_map)) & (df['regency'] == 'Gianyar'), 'subdistrict'] = 'Blahbatuh'"
   ]
  },
  {
   "cell_type": "code",
   "execution_count": null,
   "metadata": {},
   "outputs": [],
   "source": [
    "df[df['regency'] == 'Gianyar']['subdistrict'].unique()"
   ]
  },
  {
   "cell_type": "markdown",
   "metadata": {},
   "source": [
    "- Subdistrict in Bangli Regency"
   ]
  },
  {
   "cell_type": "code",
   "execution_count": null,
   "metadata": {},
   "outputs": [],
   "source": [
    "bangli_map = [\n",
    "    \"Bunutin\",\n",
    "    \"Kayubihi\",\n",
    "    \"Landih\",\n",
    "    \"Pengotan\",\n",
    "    \"Taman Bali\",\n",
    "    \"Bebalang\",\n",
    "    \"Cempaga\",\n",
    "    \"Kawan\",\n",
    "    \"Kubu\"\n",
    "]\n",
    "\n",
    "df.loc[(df['subdistrict'].isin(bangli_map)) & (df['regency'] == 'Bangli'), 'subdistrict'] = 'Bangli'"
   ]
  },
  {
   "cell_type": "code",
   "execution_count": null,
   "metadata": {},
   "outputs": [],
   "source": [
    "kintamani_map = [\n",
    "    \"Abangsongan\",\n",
    "    \"Abuan\",\n",
    "    \"Awan\",\n",
    "    \"Bantang\",\n",
    "    \"Banua\",\n",
    "    \"Batudinding\",\n",
    "    \"Batukaang\",\n",
    "    \"Batur Selatan\",\n",
    "    \"Batur Tengah\",\n",
    "    \"Batur Utara\",\n",
    "    \"Bayungcerik\",\n",
    "    \"Bayung Gede\",\n",
    "    \"Belancan\",\n",
    "    \"Belandingan\",\n",
    "    \"Belanga\",\n",
    "    \"Belantih\",\n",
    "    \"Binyan\",\n",
    "    \"Bonyoh\",\n",
    "    \"Buahan\",\n",
    "    \"Bunutin\",\n",
    "    \"Catur\",\n",
    "    \"Daup\",\n",
    "    \"Dausa\",\n",
    "    \"Gunungbau\",\n",
    "    \"Katung\",\n",
    "    \"Kedisan\",\n",
    "    \"Kintamani\",\n",
    "    \"Kutuh\",\n",
    "    \"Langgahan\",\n",
    "    \"Lembean\",\n",
    "    \"Mangguh\",\n",
    "    \"Manikliyu\",\n",
    "    \"Mengani\",\n",
    "    \"Pengejaran\",\n",
    "    \"Pinggan\",\n",
    "    \"Satra\",\n",
    "    \"Sekaan\",\n",
    "    \"Sekardadi\",\n",
    "    \"Selulung\",\n",
    "    \"Serai\",\n",
    "    \"Siakin\",\n",
    "    \"Songan A\",\n",
    "    \"Songan B\",\n",
    "    \"Subaya\",\n",
    "    \"Sukawana\",\n",
    "    \"Suter\",\n",
    "    \"Terunyan\",\n",
    "    \"Ulian\"\n",
    "]\n",
    "\n",
    "df.loc[(df['subdistrict'].isin(kintamani_map)) & (df['regency'] == 'Bangli'), 'subdistrict'] = 'Kintamani'"
   ]
  },
  {
   "cell_type": "code",
   "execution_count": null,
   "metadata": {},
   "outputs": [],
   "source": [
    "susut_map = [\n",
    "    \"Abuan\",\n",
    "    \"Apuan\",\n",
    "    \"Demulih\",\n",
    "    \"Pengiangan\",\n",
    "    \"Penglumbaran\",\n",
    "    \"Selat\",\n",
    "    \"Sulahan\",\n",
    "    \"Susut\",\n",
    "    \"Tiga\"\n",
    "]\n",
    "\n",
    "df.loc[(df['subdistrict'].isin(susut_map)) & (df['regency'] == 'Bangli'), 'subdistrict'] = 'Susut'"
   ]
  },
  {
   "cell_type": "code",
   "execution_count": null,
   "metadata": {},
   "outputs": [],
   "source": [
    "tembuku_map = [\n",
    "    \"Bangbang\",\n",
    "    \"Jehem\",\n",
    "    \"Peninjoan\",\n",
    "    \"Tembuku\",\n",
    "    \"Undisan\",\n",
    "    \"Yangapi\"\n",
    "]\n",
    "\n",
    "df.loc[(df['subdistrict'].isin(tembuku_map)) & (df['regency'] == 'Bangli'), 'subdistrict'] = 'Tembuku'"
   ]
  },
  {
   "cell_type": "code",
   "execution_count": null,
   "metadata": {},
   "outputs": [],
   "source": [
    "df[df['regency'] == 'Bangli']['subdistrict'].unique()"
   ]
  },
  {
   "cell_type": "markdown",
   "metadata": {},
   "source": [
    "- Subdistrict in Tabanan Regency"
   ]
  },
  {
   "cell_type": "code",
   "execution_count": null,
   "metadata": {},
   "outputs": [],
   "source": [
    "df[df['regency'] == 'Tabanan']['subdistrict'].unique()"
   ]
  },
  {
   "cell_type": "code",
   "execution_count": null,
   "metadata": {},
   "outputs": [],
   "source": [
    "baturiti_map = [\n",
    "    \"Angseri\",\n",
    "    \"Antapan\",\n",
    "    \"Apuan\",\n",
    "    \"Bangli\",\n",
    "    \"Batunya\",\n",
    "    \"Baturiti\",\n",
    "    \"Candikuning\",\n",
    "    \"Luwus\",\n",
    "    \"Mekarsari\",\n",
    "    \"Perean\",\n",
    "    \"Perean Kangin\",\n",
    "    \"Perean Tengah\",\n",
    "    \"Bedugul\"\n",
    "]\n",
    "\n",
    "df.loc[(df['subdistrict'].isin(baturiti_map)) & (df['regency'] == 'Tabanan'), 'subdistrict'] = 'Baturiti'"
   ]
  },
  {
   "cell_type": "code",
   "execution_count": null,
   "metadata": {},
   "outputs": [],
   "source": [
    "kediri_map = [\n",
    "    \"Abian Tuwung\",\n",
    "    \"Banjar Anyar\",\n",
    "    \"Belalang\",\n",
    "    \"Bengkel\",\n",
    "    \"Beraban\",\n",
    "    \"Buwit\",\n",
    "    \"Cepaka\",\n",
    "    \"Kaba-kaba\",\n",
    "    \"Kediri\",\n",
    "    \"Nyambu\",\n",
    "    \"Nyitdah\",\n",
    "    \"Pandak Bandung\",\n",
    "    \"Pandak Gede\",\n",
    "    \"Pangkung Tibah\",\n",
    "    \"Pejaten\",\n",
    "    \"Tanah Lot\",\n",
    "    \"Abiantuwung\",\n",
    "    \"Kaba kaba\",\n",
    "    \"Nyambung\",\n",
    "    \"Banjaranyar\",\n",
    "    \"Pangkutibah\",\n",
    "    \"Pandakbandung\",\n",
    "    \"Pandakgede\"\n",
    "\n",
    "]\n",
    "\n",
    "df.loc[(df['subdistrict'].isin(kediri_map)) & (df['regency'] == 'Tabanan'), 'subdistrict'] = 'Kediri'\n"
   ]
  },
  {
   "cell_type": "code",
   "execution_count": null,
   "metadata": {},
   "outputs": [],
   "source": [
    "kerambitan_map = [\n",
    "    \"Batuaji\",\n",
    "    \"Baturiti\",\n",
    "    \"Belumbang\",\n",
    "    \"Kelating\",\n",
    "    \"Kerambitan\",\n",
    "    \"Kesiut\",\n",
    "    \"Kukuh\",\n",
    "    \"Meliling\",\n",
    "    \"Pangkung Karung\",\n",
    "    \"Penarukan\",\n",
    "    \"Samsam\",\n",
    "    \"Sembung Gede\",\n",
    "    \"Tibubiu\",\n",
    "    \"Timpag\",\n",
    "    \"Tista\",\n",
    "    \"Tibubiyu\",\n",
    "    \"Sembunggede\",\n",
    "    \"Pangkungkarung\"\n",
    "\n",
    "]\n",
    "\n",
    "df.loc[(df['subdistrict'].isin(kerambitan_map)) & (df['regency'] == 'Tabanan'), 'subdistrict'] = 'Kerambitan'\n"
   ]
  },
  {
   "cell_type": "code",
   "execution_count": null,
   "metadata": {},
   "outputs": [],
   "source": [
    "marga_map = [\n",
    "    \"Baru\",\n",
    "    \"Batannyuh\",\n",
    "    \"Beringkit\",\n",
    "    \"Cau Belayu\",\n",
    "    \"Geluntung\",\n",
    "    \"Kukuh\",\n",
    "    \"Kuwum\",\n",
    "    \"Marga\",\n",
    "    \"Marga Dajan Puri\",\n",
    "    \"Marga Dauh Puri\",\n",
    "    \"Payangan\",\n",
    "    \"Peken\",\n",
    "    \"Petiga\",\n",
    "    \"Selanbawak\",\n",
    "    \"Tegaljadi\",\n",
    "    \"Tua\",\n",
    "    \"Caubelayu\"\n",
    "]\n",
    "\n",
    "df.loc[(df['subdistrict'].isin(marga_map)) & (df['regency'] == 'Tabanan'), 'subdistrict'] = 'Marga'"
   ]
  },
  {
   "cell_type": "code",
   "execution_count": null,
   "metadata": {},
   "outputs": [],
   "source": [
    "penebel_map = [\n",
    "    \"Babahan\",\n",
    "    \"Biaung\",\n",
    "    \"Buruan\",\n",
    "    \"Jatiluwih\",\n",
    "    \"Jegu\",\n",
    "    \"Mengesta\",\n",
    "    \"Penatahan\",\n",
    "    \"Penebel\",\n",
    "    \"Pesagi\",\n",
    "    \"Pitra\",\n",
    "    \"Rejasa\",\n",
    "    \"Rianggede\",\n",
    "    \"Sangketan\",\n",
    "    \"Senganan\",\n",
    "    \"Tajen\",\n",
    "    \"Tegallinggah\",\n",
    "    \"Tengkudak\",\n",
    "    \"Wongaya Gede\",\n",
    "    \"Soka\",\n",
    "    \"Wongayagede\"\n",
    "]\n",
    "\n",
    "df.loc[(df['subdistrict'].isin(penebel_map)) & (df['regency'] == 'Tabanan'), 'subdistrict'] = 'Penebel'"
   ]
  },
  {
   "cell_type": "code",
   "execution_count": null,
   "metadata": {},
   "outputs": [],
   "source": [
    "pupuan_map = [\n",
    "    \"Bantiran\",\n",
    "    \"Batungsel\",\n",
    "    \"Belatungan\",\n",
    "    \"Belimbing\",\n",
    "    \"Jelijih Punggang\",\n",
    "    \"Karya Sari\",\n",
    "    \"Kebon Padangan\",\n",
    "    \"Munduk Temu\",\n",
    "    \"Padangan\",\n",
    "    \"Pajahan\",\n",
    "    \"Pujungan\",\n",
    "    \"Pupuan\",\n",
    "    \"Sai\",\n",
    "    \"Sanda\",\n",
    "    \"Munduktemu\",\n",
    "    \"Kebonpadangan\"\n",
    "]\n",
    "\n",
    "df.loc[(df['subdistrict'].isin(pupuan_map)) & (df['regency'] == 'Tabanan'), 'subdistrict'] = 'Pupuan'"
   ]
  },
  {
   "cell_type": "code",
   "execution_count": null,
   "metadata": {},
   "outputs": [],
   "source": [
    "selemadeg_map = [\n",
    "    \"Antap\",\n",
    "    \"Bajera\",\n",
    "    \"Bajera Utara\",\n",
    "    \"Berembeng\",\n",
    "    \"Manikyang\",\n",
    "    \"Pupuan Sawah\",\n",
    "    \"Selemadeg\",\n",
    "    \"Serampingan\",\n",
    "    \"Wanagiri\",\n",
    "    \"Wanagiri Kauh\",\n",
    "    \"Pupuansawah\"\n",
    "]\n",
    "\n",
    "df.loc[(df['subdistrict'].isin(selemadeg_map)) & (df['regency'] == 'Tabanan'), 'subdistrict'] = 'Selemadeg'"
   ]
  },
  {
   "cell_type": "code",
   "execution_count": null,
   "metadata": {},
   "outputs": [],
   "source": [
    "selemadeg_barat_map = [\n",
    "    \"Angkah\",\n",
    "    \"Antosari\",\n",
    "    \"Bengkel Sari\",\n",
    "    \"Lalang Linggah\",\n",
    "    \"Lumbung\",\n",
    "    \"Lumbung Kauh\",\n",
    "    \"Mundeh\",\n",
    "    \"Mundeh Kangin\",\n",
    "    \"Mundeh Kauh\",\n",
    "    \"Selabih\",\n",
    "    \"Tiying Gading\",\n",
    "    \"Lalanglinggah\",\n",
    "    \"Yeh Leh\"\n",
    "]\n",
    "\n",
    "df.loc[(df['subdistrict'].isin(selemadeg_barat_map)) & (df['regency'] == 'Tabanan'), 'subdistrict'] = 'Selemadeg Barat'"
   ]
  },
  {
   "cell_type": "code",
   "execution_count": null,
   "metadata": {},
   "outputs": [],
   "source": [
    "selemadeg_timur_map = [\n",
    "    \"Bantas\",\n",
    "    \"Beraban\",\n",
    "    \"Dalang\",\n",
    "    \"Gadungan\",\n",
    "    \"Gadung Sari\",\n",
    "    \"Gunung Salak\",\n",
    "    \"Mambang\",\n",
    "    \"Megati\",\n",
    "    \"Tangguntiti\",\n",
    "    \"Tegal Mengkeb\",\n",
    "    \"Tegalmengkeb\",\n",
    "    \"Klecung\",\n",
    "    \"Gunungsalak\"\n",
    "\n",
    "]\n",
    "\n",
    "df.loc[(df['subdistrict'].isin(selemadeg_timur_map)) & (df['regency'] == 'Tabanan'), 'subdistrict'] = 'Selemadeg Timur'"
   ]
  },
  {
   "cell_type": "code",
   "execution_count": null,
   "metadata": {},
   "outputs": [],
   "source": [
    "tabanan_map = [\n",
    "    \"Bongan\",\n",
    "    \"Buahan\",\n",
    "    \"Dajan Peken\",\n",
    "    \"Dauh Peken\",\n",
    "    \"Delod Peken\",\n",
    "    \"Denbantas\",\n",
    "    \"Gubug\",\n",
    "    \"Sesandan\",\n",
    "    \"Subamia\",\n",
    "    \"Sudimara\",\n",
    "    \"Tunjuk\",\n",
    "    \"Wanasari\",\n",
    "    \"Delodpeken\",\n",
    "    \"Dauhpeken\",\n",
    "    \"Dajanpeken\"\n",
    "\n",
    "]\n",
    "\n",
    "df.loc[(df['subdistrict'].isin(tabanan_map)) & (df['regency'] == 'Tabanan'), 'subdistrict'] = 'Tabanan'"
   ]
  },
  {
   "cell_type": "code",
   "execution_count": null,
   "metadata": {},
   "outputs": [],
   "source": [
    "df[df['regency'] == 'Tabanan']['subdistrict'].unique()"
   ]
  },
  {
   "cell_type": "markdown",
   "metadata": {},
   "source": [
    "- Subdistrict in Karangasem Regency"
   ]
  },
  {
   "cell_type": "code",
   "execution_count": null,
   "metadata": {},
   "outputs": [],
   "source": [
    "df[df['regency'] == 'Karangasem']['subdistrict'].unique()"
   ]
  },
  {
   "cell_type": "code",
   "execution_count": null,
   "metadata": {},
   "outputs": [],
   "source": [
    "karangasem_map = [\n",
    "    \"Bugbug\",\n",
    "    \"Bukit\",\n",
    "    \"Pertima\",\n",
    "    \"Seraya Barat\",\n",
    "    \"Seraya Tengah\",\n",
    "    \"Seraya Timur\",\n",
    "    \"Tegallinggah\",\n",
    "    \"Tumbu\",\n",
    "    \"Subagan\",\n",
    "    \"Padang Kerta\",\n",
    "    \"Karangasem\",\n",
    "    \"Seraya\"\n",
    "]\n",
    "\n",
    "df.loc[(df['subdistrict'].isin(karangasem_map)) & (df['regency'] == 'Karangasem'), 'subdistrict'] = 'Karangasem'"
   ]
  },
  {
   "cell_type": "code",
   "execution_count": null,
   "metadata": {},
   "outputs": [],
   "source": [
    "abang_map = [\n",
    "    \"Ababi\",\n",
    "    \"Abang\",\n",
    "    \"Bunutan\",\n",
    "    \"Culik\",\n",
    "    \"Datah\",\n",
    "    \"Kerta Mandala\",\n",
    "    \"Kesimpar\",\n",
    "    \"Labasari\",\n",
    "    \"Nawa Kerthi\",\n",
    "    \"Pidpid\",\n",
    "    \"Purwakerti\",\n",
    "    \"Tista\",\n",
    "    \"Tiyingtali\",\n",
    "    \"Tri Bhuana\",\n",
    "    \"Amed\"\n",
    "]\n",
    "\n",
    "df.loc[(df['subdistrict'].isin(abang_map)) & (df['regency'] == 'Karangasem'), 'subdistrict'] = 'Abang'"
   ]
  },
  {
   "cell_type": "code",
   "execution_count": null,
   "metadata": {},
   "outputs": [],
   "source": [
    "kubu_map = [\n",
    "    \"Ban\",\n",
    "    \"Baturinggit\",\n",
    "    \"Dukuh\",\n",
    "    \"Kubu\",\n",
    "    \"Sukadana\",\n",
    "    \"Tianyar\",\n",
    "    \"Tianyar Barat\",\n",
    "    \"Tianyar Tengah\",\n",
    "    \"Tulamben\"\n",
    "]\n",
    "\n",
    "df.loc[(df['subdistrict'].isin(kubu_map)) & (df['regency'] == 'Karangasem'), 'subdistrict'] = 'Kubu'"
   ]
  },
  {
   "cell_type": "code",
   "execution_count": null,
   "metadata": {},
   "outputs": [],
   "source": [
    "manggis_map = [\n",
    "    \"Antiga\",\n",
    "    \"Antiga Kelod\",\n",
    "    \"Gegelang\",\n",
    "    \"Manggis\",\n",
    "    \"Ngis\",\n",
    "    \"Nyuhtebel\",\n",
    "    \"Padangbai\",\n",
    "    \"Persedahan\",\n",
    "    \"Selumbung\",\n",
    "    \"Sengkidu\",\n",
    "    \"Tenganan\",\n",
    "    \"Ulakan\",\n",
    "    \"Candi Dasa\"\n",
    "]\n",
    "\n",
    "df.loc[(df['subdistrict'].isin(manggis_map)) & (df['regency'] == 'Karangasem'), 'subdistrict'] = 'Manggis'"
   ]
  },
  {
   "cell_type": "code",
   "execution_count": null,
   "metadata": {},
   "outputs": [],
   "source": [
    "rendang_map = [\n",
    "    \"Besakih\",\n",
    "    \"Menanga\",\n",
    "    \"Nongan\",\n",
    "    \"Pempatan\",\n",
    "    \"Pesaban\",\n",
    "    \"Rendang\"\n",
    "]\n",
    "\n",
    "df.loc[(df['subdistrict'].isin(rendang_map)) & (df['regency'] == 'Karangasem'), 'subdistrict'] = 'Rendang'"
   ]
  },
  {
   "cell_type": "code",
   "execution_count": null,
   "metadata": {},
   "outputs": [],
   "source": [
    "bebandem_map = [\n",
    "    \"Bebandem\",\n",
    "    \"Buana Giri\",\n",
    "    \"Budakeling\",\n",
    "    \"Bungaya\",\n",
    "    \"Bungaya Kangin\",\n",
    "    \"Jungutan\",\n",
    "    \"Macang\",\n",
    "    \"Sibetan\"\n",
    "]\n",
    "\n",
    "df.loc[(df['subdistrict'].isin(bebandem_map)) & (df['regency'] == 'Karangasem'), 'subdistrict'] = 'Bebandem'"
   ]
  },
  {
   "cell_type": "code",
   "execution_count": null,
   "metadata": {},
   "outputs": [],
   "source": [
    "sidemen_map = [\n",
    "    \"Kertha Buana\",\n",
    "    \"Lokasari\",\n",
    "    \"Sangkan Gunung\",\n",
    "    \"Sidemen\",\n",
    "    \"Sindu Wati\",\n",
    "    \"Talibeng\",\n",
    "    \"Tangkup\",\n",
    "    \"Telaga Tawang\",\n",
    "    \"Tri Eka Buana\",\n",
    "    \"Wisma Kerta\"\n",
    "]\n",
    "\n",
    "df.loc[(df['subdistrict'].isin(sidemen_map)) & (df['regency'] == 'Karangasem'), 'subdistrict'] = 'Sidemen'"
   ]
  },
  {
   "cell_type": "code",
   "execution_count": null,
   "metadata": {},
   "outputs": [],
   "source": [
    "selat_map = [\n",
    "    \"Amertha Buana\",\n",
    "    \"Duda\",\n",
    "    \"Duda Timur\",\n",
    "    \"Duda Utara\",\n",
    "    \"Muncan\",\n",
    "    \"Pering Sari\",\n",
    "    \"Sebudi\",\n",
    "    \"Selat\"\n",
    "]\n",
    "\n",
    "df.loc[(df['subdistrict'].isin(selat_map)) & (df['regency'] == 'Karangasem'), 'subdistrict'] = 'Selat'"
   ]
  },
  {
   "cell_type": "code",
   "execution_count": null,
   "metadata": {},
   "outputs": [],
   "source": [
    "df[df['regency'] == 'Karangasem']['subdistrict'].unique()"
   ]
  },
  {
   "cell_type": "markdown",
   "metadata": {},
   "source": [
    "- Subdistrict in Klungkung Regency"
   ]
  },
  {
   "cell_type": "code",
   "execution_count": null,
   "metadata": {},
   "outputs": [],
   "source": [
    "df[df['regency'] == 'Klungkung']['subdistrict'].unique()"
   ]
  },
  {
   "cell_type": "code",
   "execution_count": null,
   "metadata": {},
   "outputs": [],
   "source": [
    "banjarangkan_map = [\n",
    "    \"Aan\",\n",
    "    \"Bakas\",\n",
    "    \"Banjarangkan\",\n",
    "    \"Bungbungan\",\n",
    "    \"Getakan\",\n",
    "    \"Negari\",\n",
    "    \"Nyalian\",\n",
    "    \"Nyanglan\",\n",
    "    \"Takmung\",\n",
    "    \"Tihingan\",\n",
    "    \"Timuhun\",\n",
    "    \"Tohpati\",\n",
    "    \"Tusan\",\n",
    "    \"Banjarankan\"\n",
    "]\n",
    "\n",
    "df.loc[(df['subdistrict'].isin(banjarangkan_map)) & (df['regency'] == 'Klungkung'), 'subdistrict'] = 'Banjarangkan'"
   ]
  },
  {
   "cell_type": "code",
   "execution_count": null,
   "metadata": {},
   "outputs": [],
   "source": [
    "klungkung_map = [\n",
    "    \"Akah\",\n",
    "    \"Gelgel\",\n",
    "    \"Jumpai\",\n",
    "    \"Kamasan\",\n",
    "    \"Kampung Gelgel\",\n",
    "    \"Manduang\",\n",
    "    \"Satra\",\n",
    "    \"Selat\",\n",
    "    \"Selisihan\",\n",
    "    \"Tangkas\",\n",
    "    \"Tegak\",\n",
    "    \"Tojan\",\n",
    "    \"Semarapura Kaja\",\n",
    "    \"Semarapura Kangin\",\n",
    "    \"Semarapura Kauh\",\n",
    "    \"Semarapura Klod\",\n",
    "    \"Semarapura Klod Kangin\",\n",
    "    \"Semarapura Tengah\",\n",
    "    \"Klungkung Kota\"\n",
    "]\n",
    "\n",
    "df.loc[(df['subdistrict'].isin(klungkung_map)) & (df['regency'] == 'Klungkung'), 'subdistrict'] = 'Klungkung'"
   ]
  },
  {
   "cell_type": "code",
   "execution_count": null,
   "metadata": {},
   "outputs": [],
   "source": [
    "dawan_map = [\n",
    "    \"Besan\",\n",
    "    \"Dawan Kaler\",\n",
    "    \"Dawan Klod\",\n",
    "    \"Gunaksa\",\n",
    "    \"Kampung Kusamba\",\n",
    "    \"Kusamba\",\n",
    "    \"Paksebali\",\n",
    "    \"Pesinggahan\",\n",
    "    \"Pikat\",\n",
    "    \"Sampalan Klod\",\n",
    "    \"Sampalan Tengah\",\n",
    "    \"Sulang\",\n",
    "    \"Dawan Kelod\"\n",
    "]\n",
    "\n",
    "df.loc[(df['subdistrict'].isin(dawan_map)) & (df['regency'] == 'Klungkung'), 'subdistrict'] = 'Dawan'"
   ]
  },
  {
   "cell_type": "code",
   "execution_count": null,
   "metadata": {},
   "outputs": [],
   "source": [
    "nusa_penida_map = [\n",
    "    \"Batukandik\",\n",
    "    \"Batumadeg\",\n",
    "    \"Batununggul\",\n",
    "    \"Bunga Mekar\",\n",
    "    \"Jungutbatu\",\n",
    "    \"Kampung Toyapakeh\",\n",
    "    \"Klumpu\",\n",
    "    \"Kutampi\",\n",
    "    \"Kutampi Kaler\",\n",
    "    \"Lembongan\",\n",
    "    \"Ped\",\n",
    "    \"Pejukutan\",\n",
    "    \"Sakti\",\n",
    "    \"Sekartaji\",\n",
    "    \"Suana\",\n",
    "    \"Tanglad\",\n",
    "    \"Nusa Lembongan\", \n",
    "    \"Klumbu\"\n",
    "]\n",
    "\n",
    "df.loc[(df['subdistrict'].isin(nusa_penida_map)) & (df['regency'] == 'Klungkung'), 'subdistrict'] = 'Nusa Penida'"
   ]
  },
  {
   "cell_type": "code",
   "execution_count": null,
   "metadata": {},
   "outputs": [],
   "source": [
    "df[df['regency'] == 'Klungkung']['subdistrict'].unique()"
   ]
  },
  {
   "cell_type": "code",
   "execution_count": null,
   "metadata": {},
   "outputs": [],
   "source": [
    "out_klungkung = ['Sauna']\n",
    "\n",
    "drop_klungkung = df[(df['regency'] == 'Klungkung') & (df['subdistrict'].isin(out_klungkung))].index\n",
    "df = df.drop(drop_klungkung)"
   ]
  },
  {
   "cell_type": "code",
   "execution_count": null,
   "metadata": {},
   "outputs": [],
   "source": [
    "df[df['regency'] == 'Klungkung']['subdistrict'].unique()"
   ]
  },
  {
   "cell_type": "markdown",
   "metadata": {},
   "source": [
    "- Subdistrict in Jembrana Regency"
   ]
  },
  {
   "cell_type": "code",
   "execution_count": null,
   "metadata": {},
   "outputs": [],
   "source": [
    "df[df['regency'] == 'Jembrana']['subdistrict'].unique()"
   ]
  },
  {
   "cell_type": "code",
   "execution_count": null,
   "metadata": {},
   "outputs": [],
   "source": [
    "melaya_map = [\n",
    "    \"Blimbing Sari\",\n",
    "    \"Candikusuma\",\n",
    "    \"Ekasari\",\n",
    "    \"Manistutu\",\n",
    "    \"Melaya\",\n",
    "    \"Nusasari\",\n",
    "    \"Tukadaya\",\n",
    "    \"Tuwed\",\n",
    "    \"Warnasari\",\n",
    "    \"Gilimanuk\",\n",
    "    \"Candikesuma\"\n",
    "]\n",
    "\n",
    "df.loc[(df['subdistrict'].isin(melaya_map)) & (df['regency'] == 'Jembrana'), 'subdistrict'] = 'Melaya'"
   ]
  },
  {
   "cell_type": "code",
   "execution_count": null,
   "metadata": {},
   "outputs": [],
   "source": [
    "negara_map = [\n",
    "    \"Baluk\",\n",
    "    \"Banyubiru\",\n",
    "    \"Berangbang\",\n",
    "    \"Cupel\",\n",
    "    \"Kaliakah\",\n",
    "    \"Pengambengan\",\n",
    "    \"Tegal Badeng Barat\",\n",
    "    \"Tegal Badeng Timur\",\n",
    "    \"Baler Bale Agung\",\n",
    "    \"Banjar Tengah\",\n",
    "    \"Lelateng\",\n",
    "    \"Loloan Barat\",\n",
    "    \"Tegalbadeng Timur\",\n",
    "    \"Balerbaleagung\", \n",
    "    \"Pangambengan\"\n",
    "]\n",
    "\n",
    "df.loc[(df['subdistrict'].isin(negara_map)) & (df['regency'] == 'Jembrana'), 'subdistrict'] = 'Negara'"
   ]
  },
  {
   "cell_type": "code",
   "execution_count": null,
   "metadata": {},
   "outputs": [],
   "source": [
    "jembrana_map = [\n",
    "    \"Air Kuning\",\n",
    "    \"Batuagung\",\n",
    "    \"Budeng\",\n",
    "    \"Dangintukadaya\",\n",
    "    \"Perancak\",\n",
    "    \"Yeh Kuning\",\n",
    "    \"Dauhwaru\",\n",
    "    \"Loloan Timur\",\n",
    "    \"Pendem\",\n",
    "    \"Sangkaragung\",\n",
    "    \"Airkuning\"\n",
    "]\n",
    "\n",
    "df.loc[(df['subdistrict'].isin(jembrana_map)) & (df['regency'] == 'Jembrana'), 'subdistrict'] = 'Jembrana'"
   ]
  },
  {
   "cell_type": "code",
   "execution_count": null,
   "metadata": {},
   "outputs": [],
   "source": [
    "mendoyo_map = [\n",
    "    \"Delod Berawah\",\n",
    "    \"Mendoyo Dangin Tukad\",\n",
    "    \"Mendoyo Dauh Tukad\",\n",
    "    \"Penyaringan\",\n",
    "    \"Pergung\",\n",
    "    \"Pohsanten\",\n",
    "    \"Yeh Embang\",\n",
    "    \"Yeh Embang Kangin\",\n",
    "    \"Yeh Embang Kauh\",\n",
    "    \"Yeh Sumbul\",\n",
    "    \"Tegal Cangkring\",\n",
    "    \"Yehembang Kangin\",\n",
    "    \"Yehsumbul\",\n",
    "    \"Mendoyo Dangintukad\",\n",
    "    \"Delodberawah\",\n",
    "    \"Yehembang\",\n",
    "    \"Mendoyo Dauhtukad\"\n",
    "]\n",
    "\n",
    "df.loc[(df['subdistrict'].isin(mendoyo_map)) & (df['regency'] == 'Jembrana'), 'subdistrict'] = 'Mendoyo'"
   ]
  },
  {
   "cell_type": "code",
   "execution_count": null,
   "metadata": {},
   "outputs": [],
   "source": [
    "pekutatan_map = [\n",
    "    \"Asahduren\",\n",
    "    \"Gumbrih\",\n",
    "    \"Manggissari\",\n",
    "    \"Medewi\",\n",
    "    \"Pangyangan\",\n",
    "    \"Pekutatan\",\n",
    "    \"Pengragoan\",\n",
    "    \"Pulukan\",\n",
    "    \"Pangeragoan\"\n",
    "]\n",
    "\n",
    "df.loc[(df['subdistrict'].isin(pekutatan_map)) & (df['regency'] == 'Jembrana'), 'subdistrict'] = 'Pekutatan'"
   ]
  },
  {
   "cell_type": "code",
   "execution_count": null,
   "metadata": {},
   "outputs": [],
   "source": [
    "df[df['regency'] == 'Jembrana']['subdistrict'].unique()"
   ]
  },
  {
   "cell_type": "markdown",
   "metadata": {},
   "source": [
    "- Subdistrict in Buleleng Regency"
   ]
  },
  {
   "cell_type": "code",
   "execution_count": null,
   "metadata": {},
   "outputs": [],
   "source": [
    "df[df['regency'] == 'Buleleng']['subdistrict'].unique()"
   ]
  },
  {
   "cell_type": "code",
   "execution_count": null,
   "metadata": {},
   "outputs": [],
   "source": [
    "gerokgak_map = [\n",
    "    \"Banyupoh\",\n",
    "    \"Celukanbawang\",\n",
    "    \"Gerokgak\",\n",
    "    \"Musi\",\n",
    "    \"Patas\",\n",
    "    \"Pejarakan\",\n",
    "    \"Pemuteran\",\n",
    "    \"Pengulon\",\n",
    "    \"Penyabangan\",\n",
    "    \"Sanggalangit\",\n",
    "    \"Sumberklampok\",\n",
    "    \"Sumberklima\",\n",
    "    \"Tinga-Tinga\",\n",
    "    \"Tukadsumaga\",\n",
    "    \"Tinga tinga\",\n",
    "    \"Sumberkimia\"\n",
    "]\n",
    "\n",
    "df.loc[(df['subdistrict'].isin(gerokgak_map)) & (df['regency'] == 'Buleleng'), 'subdistrict'] = 'Gerokgak'"
   ]
  },
  {
   "cell_type": "code",
   "execution_count": null,
   "metadata": {},
   "outputs": [],
   "source": [
    "seririt_map = [\n",
    "    \"Banjar Asem\",\n",
    "    \"Bestala\",\n",
    "    \"Bubunan\",\n",
    "    \"Gunungsari\",\n",
    "    \"Joanyar\",\n",
    "    \"Kalianget\",\n",
    "    \"Kalisada\",\n",
    "    \"Lokapaksa\",\n",
    "    \"Mayong\",\n",
    "    \"Munduk Bestala\",\n",
    "    \"Pangkung Paruk\",\n",
    "    \"Patemon\",\n",
    "    \"Pengastulan\",\n",
    "    \"Rangdu\",\n",
    "    \"Ringdikit\",\n",
    "    \"Sulanyah\",\n",
    "    \"Tangguwisia\",\n",
    "    \"Ularan\",\n",
    "    \"Umeanyar\",\n",
    "    \"Unggahan\",\n",
    "    \"Banjarasem\", \"Pangkungparuk\"\n",
    "]\n",
    "\n",
    "df.loc[(df['subdistrict'].isin(seririt_map)) & (df['regency'] == 'Buleleng'), 'subdistrict'] = 'Seririt'"
   ]
  },
  {
   "cell_type": "code",
   "execution_count": null,
   "metadata": {},
   "outputs": [],
   "source": [
    "busungbiu_map = [\n",
    "    \"Bengkel\",\n",
    "    \"Bongancina\",\n",
    "    \"Busung Biu\",\n",
    "    \"Kedis\",\n",
    "    \"Kekeran\",\n",
    "    \"Pelapuan\",\n",
    "    \"Pucaksari\",\n",
    "    \"Sepang\",\n",
    "    \"Sepang Kelod\",\n",
    "    \"Subuk\",\n",
    "    \"Telaga\",\n",
    "    \"Tinggarsari\",\n",
    "    \"Tista\",\n",
    "    \"Titab\",\n",
    "    \"Umejero\",\n",
    "    \"Puncaksari\",\n",
    "    \"BusungBiu\",\n",
    "    \"Busungbiu\"\n",
    "]\n",
    "\n",
    "df.loc[(df['subdistrict'].isin(busungbiu_map)) & (df['regency'] == 'Buleleng'), 'subdistrict'] = 'Busung Biu'"
   ]
  },
  {
   "cell_type": "code",
   "execution_count": null,
   "metadata": {},
   "outputs": [],
   "source": [
    "banjar_map = [\n",
    "    \"Banjar\",\n",
    "    \"Banjar Tegeha\",\n",
    "    \"Banyuatis\",\n",
    "    \"Banyuseri\",\n",
    "    \"Cempaga\",\n",
    "    \"Dencarik\",\n",
    "    \"Gesing\",\n",
    "    \"Gobleg\",\n",
    "    \"Kaliasem\",\n",
    "    \"Kayuputih\",\n",
    "    \"Munduk\",\n",
    "    \"Pedawa\",\n",
    "    \"Sidetapa\",\n",
    "    \"Tampekan\",\n",
    "    \"Temukus\",\n",
    "    \"Tigawasa\",\n",
    "    \"Tirtasari\"\n",
    "]\n",
    "\n",
    "df.loc[(df['subdistrict'].isin(banjar_map)) & (df['regency'] == 'Buleleng'), 'subdistrict'] = 'Banjar'"
   ]
  },
  {
   "cell_type": "code",
   "execution_count": null,
   "metadata": {},
   "outputs": [],
   "source": [
    "sukasada_map = [\n",
    "    \"Ambengan\",\n",
    "    \"Git Git\",\n",
    "    \"Kayu Putih\",\n",
    "    \"Padang Bulia\",\n",
    "    \"Pancasari\",\n",
    "    \"Panji\",\n",
    "    \"Panji Anom\",\n",
    "    \"Pegadungan\",\n",
    "    \"Pegayaman\",\n",
    "    \"Sambangan\",\n",
    "    \"Selat\",\n",
    "    \"Silangjana\",\n",
    "    \"Tegal Linggah\",\n",
    "    \"Wanagiri\",\n",
    "    \"Panjianom\", \n",
    "    \"Gitgit\", \n",
    "]\n",
    "\n",
    "df.loc[(df['subdistrict'].isin(sukasada_map)) & (df['regency'] == 'Buleleng'), 'subdistrict'] = 'Sukasada'"
   ]
  },
  {
   "cell_type": "code",
   "execution_count": null,
   "metadata": {},
   "outputs": [],
   "source": [
    "buleleng_map = [\n",
    "    \"Alasangker\",\n",
    "    \"Anturan\",\n",
    "    \"Bakti Seraga\",\n",
    "    \"Jinengdalem\",\n",
    "    \"Kalibukbuk\",\n",
    "    \"Nagasepaha\",\n",
    "    \"Pemaron\",\n",
    "    \"Penglatan\",\n",
    "    \"Petandakan\",\n",
    "    \"Poh Bergong\",\n",
    "    \"Sari Mekar\",\n",
    "    \"Tukadmungga\",\n",
    "    \"Astina\",\n",
    "    \"Banjar Bali\",\n",
    "    \"Banjar Jawa\",\n",
    "    \"Banjar Tegal\",\n",
    "    \"Banyuasri\",\n",
    "    \"Banyuning\",\n",
    "    \"Beratan\",\n",
    "    \"Kaliuntu\",\n",
    "    \"Kampung Anyar\",\n",
    "    \"Kampung Baru\",\n",
    "    \"Kampung Bugis\",\n",
    "    \"Kampung Kajanan\",\n",
    "    \"Kampung Singaraja\",\n",
    "    \"Kendran\",\n",
    "    \"Liligundi\",\n",
    "    \"Paket Agung\",\n",
    "    \"Penarukan\",\n",
    "    \"Lovina\",\n",
    "    \"Singaraja\",\n",
    "    \"Banjarbali\",\n",
    "    \"Baktiseraga\", \n",
    "    \"Kalibubuk\", \n",
    "]\n",
    "\n",
    "df.loc[(df['subdistrict'].isin(buleleng_map)) & (df['regency'] == 'Buleleng'), 'subdistrict'] = 'Buleleng'"
   ]
  },
  {
   "cell_type": "code",
   "execution_count": null,
   "metadata": {},
   "outputs": [],
   "source": [
    "sawan_map = [\n",
    "    \"Bebetin\",\n",
    "    \"Bungkulan\",\n",
    "    \"Galungan\",\n",
    "    \"Giri Emas\",\n",
    "    \"Jagaraga\",\n",
    "    \"Kerobokan\",\n",
    "    \"Lemukih\",\n",
    "    \"Menyali\",\n",
    "    \"Sangsit\",\n",
    "    \"Sawan\",\n",
    "    \"Sekumpul\",\n",
    "    \"Sinabun\",\n",
    "    \"Sudaji\",\n",
    "    \"Suwug\"\n",
    "]\n",
    "\n",
    "df.loc[(df['subdistrict'].isin(sawan_map)) & (df['regency'] == 'Buleleng'), 'subdistrict'] = 'Sawan'"
   ]
  },
  {
   "cell_type": "code",
   "execution_count": null,
   "metadata": {},
   "outputs": [],
   "source": [
    "kubutambahan_map = [\n",
    "    \"Bengkala\",\n",
    "    \"Bila\",\n",
    "    \"Bontihing\",\n",
    "    \"Bukti\",\n",
    "    \"Bulian\",\n",
    "    \"Depeha\",\n",
    "    \"Kubutambahan\",\n",
    "    \"Mengening\",\n",
    "    \"Pakisan\",\n",
    "    \"Tajun\",\n",
    "    \"Tambakan\",\n",
    "    \"Tamblang\",\n",
    "    \"Tunjung\",\n",
    "    \"Kubu Tambahan\"\n",
    "]\n",
    "\n",
    "df.loc[(df['subdistrict'].isin(kubutambahan_map)) & (df['regency'] == 'Buleleng'), 'subdistrict'] = 'Kubu Tambahan'"
   ]
  },
  {
   "cell_type": "code",
   "execution_count": null,
   "metadata": {},
   "outputs": [],
   "source": [
    "tejakula_map = [\n",
    "    \"Bondalem\",\n",
    "    \"Julah\",\n",
    "    \"Les\",\n",
    "    \"Madenan\",\n",
    "    \"Pacung\",\n",
    "    \"Penuktukan\",\n",
    "    \"Sambirenteng\",\n",
    "    \"Sembiran\",\n",
    "    \"Tejakula\",\n",
    "    \"Tembok\"\n",
    "]\n",
    "\n",
    "df.loc[(df['subdistrict'].isin(tejakula_map)) & (df['regency'] == 'Buleleng'), 'subdistrict'] = 'Tejakula'"
   ]
  },
  {
   "cell_type": "code",
   "execution_count": null,
   "metadata": {},
   "outputs": [],
   "source": [
    "df[df['regency'] == 'Buleleng']['subdistrict'].unique()"
   ]
  },
  {
   "cell_type": "markdown",
   "metadata": {},
   "source": [
    "- Check the Regency"
   ]
  },
  {
   "cell_type": "code",
   "execution_count": null,
   "metadata": {},
   "outputs": [],
   "source": [
    "df['regency'].unique()"
   ]
  },
  {
   "cell_type": "markdown",
   "metadata": {},
   "source": [
    "- Backup Dataframe"
   ]
  },
  {
   "cell_type": "code",
   "execution_count": null,
   "metadata": {},
   "outputs": [],
   "source": [
    "df_new_subd = df.copy()"
   ]
  },
  {
   "cell_type": "code",
   "execution_count": null,
   "metadata": {},
   "outputs": [],
   "source": [
    "df = df_new_subd.copy()\n",
    "df.head()"
   ]
  },
  {
   "cell_type": "markdown",
   "metadata": {},
   "source": [
    "# Noise Data Handling"
   ]
  },
  {
   "cell_type": "markdown",
   "metadata": {},
   "source": [
    "### Noise Data on Land Area"
   ]
  },
  {
   "cell_type": "code",
   "execution_count": null,
   "metadata": {},
   "outputs": [],
   "source": [
    "land_area = df['land_area']\n",
    "\n",
    "plt.figure(figsize=(10, 6))\n",
    "plt.hist(land_area, bins=30, edgecolor='k', alpha=0.7)\n",
    "plt.title('Distribution of Land Area')\n",
    "plt.xlabel('Land Area')\n",
    "plt.ylabel('Frequency')\n",
    "plt.yscale('log')\n",
    "plt.xscale('log')\n",
    "plt.show()"
   ]
  },
  {
   "cell_type": "markdown",
   "metadata": {},
   "source": [
    "- Quantile Method to Handle Noise Data"
   ]
  },
  {
   "cell_type": "code",
   "execution_count": null,
   "metadata": {},
   "outputs": [],
   "source": [
    "threshold = land_area.quantile(0.99)\n",
    "filtered_land_area = df[land_area < threshold]"
   ]
  },
  {
   "cell_type": "code",
   "execution_count": null,
   "metadata": {},
   "outputs": [],
   "source": [
    "plt.figure(figsize=(10, 6))\n",
    "plt.hist(filtered_land_area['land_area'], bins=30, edgecolor='k', alpha=0.7)\n",
    "plt.title('Distribution of Land Area (Filtered)')\n",
    "plt.xlabel('Land Area')\n",
    "plt.ylabel('Frequency')\n",
    "plt.yscale('log')\n",
    "plt.xscale('log')\n",
    "plt.show()"
   ]
  },
  {
   "cell_type": "markdown",
   "metadata": {},
   "source": [
    "- Backup Dataframe"
   ]
  },
  {
   "cell_type": "code",
   "execution_count": null,
   "metadata": {},
   "outputs": [],
   "source": [
    "df = filtered_land_area.copy()"
   ]
  },
  {
   "cell_type": "markdown",
   "metadata": {},
   "source": [
    "### Noise Data on Price Total"
   ]
  },
  {
   "cell_type": "code",
   "execution_count": null,
   "metadata": {},
   "outputs": [],
   "source": [
    "price_total = df['price_total']\n",
    "\n",
    "plt.figure(figsize=(10, 6))\n",
    "plt.hist(price_total, bins=30, edgecolor='k', alpha=0.7)\n",
    "plt.title('Distribution of Price Total')\n",
    "plt.xlabel('Land Area')\n",
    "plt.ylabel('Frequency')\n",
    "plt.yscale('log')\n",
    "plt.xscale('log')\n",
    "plt.show()"
   ]
  },
  {
   "cell_type": "markdown",
   "metadata": {},
   "source": [
    "- Quantile Method to Handle Noise Data"
   ]
  },
  {
   "cell_type": "code",
   "execution_count": null,
   "metadata": {},
   "outputs": [],
   "source": [
    "threshold = price_total.quantile(0.99)\n",
    "filtered_land_area = df[price_total < threshold]"
   ]
  },
  {
   "cell_type": "code",
   "execution_count": null,
   "metadata": {},
   "outputs": [],
   "source": [
    "plt.figure(figsize=(10, 6))\n",
    "plt.hist(filtered_land_area['price_total'], bins=30, edgecolor='k', alpha=0.7)\n",
    "plt.title('Distribution of Price Total (Filtered)')\n",
    "plt.xlabel('Price Total')\n",
    "plt.ylabel('Frequency')\n",
    "plt.yscale('log')\n",
    "plt.xscale('log')\n",
    "plt.show()"
   ]
  },
  {
   "cell_type": "markdown",
   "metadata": {},
   "source": [
    "- Backup Dataframe"
   ]
  },
  {
   "cell_type": "code",
   "execution_count": null,
   "metadata": {},
   "outputs": [],
   "source": [
    "df = filtered_land_area.copy()"
   ]
  },
  {
   "cell_type": "markdown",
   "metadata": {},
   "source": [
    "### Noise Data on Price Per m2"
   ]
  },
  {
   "cell_type": "code",
   "execution_count": null,
   "metadata": {},
   "outputs": [],
   "source": [
    "price_per_m2 = df['price_per_m2']\n",
    "\n",
    "plt.figure(figsize=(10, 6))\n",
    "plt.hist(price_per_m2, bins=30, edgecolor='k', alpha=0.7)\n",
    "plt.title('Distribution of Price Per m2')\n",
    "plt.xlabel('Price Per m2')\n",
    "plt.ylabel('Frequency')\n",
    "plt.yscale('log')\n",
    "plt.xscale('log')\n",
    "plt.show()"
   ]
  },
  {
   "cell_type": "markdown",
   "metadata": {},
   "source": [
    "- Quantile Method to Handle Noise Data"
   ]
  },
  {
   "cell_type": "code",
   "execution_count": null,
   "metadata": {},
   "outputs": [],
   "source": [
    "threshold = price_per_m2.quantile(0.99)\n",
    "filtered_land_area = df[price_per_m2 < threshold]"
   ]
  },
  {
   "cell_type": "code",
   "execution_count": null,
   "metadata": {},
   "outputs": [],
   "source": [
    "plt.figure(figsize=(10, 6))\n",
    "plt.hist(filtered_land_area['price_per_m2'], bins=30, edgecolor='k', alpha=0.7)\n",
    "plt.title('Distribution of Price Per m2 (Filtered)')\n",
    "plt.xlabel('Price Per m2')\n",
    "plt.ylabel('Frequency')\n",
    "plt.yscale('log')\n",
    "plt.xscale('log')\n",
    "plt.show()"
   ]
  },
  {
   "cell_type": "markdown",
   "metadata": {},
   "source": [
    "- Backup Dataframe"
   ]
  },
  {
   "cell_type": "code",
   "execution_count": null,
   "metadata": {},
   "outputs": [],
   "source": [
    "df = filtered_land_area.copy()"
   ]
  },
  {
   "cell_type": "markdown",
   "metadata": {},
   "source": [
    "# Outlier Handling"
   ]
  },
  {
   "cell_type": "markdown",
   "metadata": {},
   "source": [
    "- Backup Dataframe"
   ]
  },
  {
   "cell_type": "code",
   "execution_count": null,
   "metadata": {},
   "outputs": [],
   "source": [
    "df_outlier = df.copy()"
   ]
  },
  {
   "cell_type": "code",
   "execution_count": null,
   "metadata": {},
   "outputs": [],
   "source": [
    "df = df_outlier.copy()"
   ]
  },
  {
   "cell_type": "markdown",
   "metadata": {},
   "source": [
    "### Outlier Handling on Land Area Column"
   ]
  },
  {
   "cell_type": "markdown",
   "metadata": {},
   "source": [
    "- Data Before Outlier Handling"
   ]
  },
  {
   "cell_type": "code",
   "execution_count": null,
   "metadata": {},
   "outputs": [],
   "source": [
    "df['land_area'].describe()"
   ]
  },
  {
   "cell_type": "code",
   "execution_count": null,
   "metadata": {},
   "outputs": [],
   "source": [
    "plt.figure(figsize=(10, 2))\n",
    "sns.boxplot(x=df['land_area'])\n",
    "plt.title('Boxplot of Land Area')\n",
    "plt.xlabel('Land Area')\n",
    "plt.tight_layout()\n",
    "plt.show()"
   ]
  },
  {
   "cell_type": "code",
   "execution_count": null,
   "metadata": {},
   "outputs": [],
   "source": [
    "plt.figure(figsize=(10, 6))\n",
    "sns.scatterplot(data=df, x=df.index, y='land_area', alpha=0.5)\n",
    "plt.title('Scatter Plot of Land Area')\n",
    "plt.xlabel('Index')\n",
    "plt.ylabel('Land Area ')\n",
    "plt.grid(True)\n",
    "plt.tight_layout()\n",
    "plt.show()"
   ]
  },
  {
   "cell_type": "markdown",
   "metadata": {},
   "source": [
    "- Make Log Function for Land Area"
   ]
  },
  {
   "cell_type": "code",
   "execution_count": null,
   "metadata": {},
   "outputs": [],
   "source": [
    "df['log_land_area'] = np.log(df['land_area'])\n",
    "df.head()"
   ]
  },
  {
   "cell_type": "code",
   "execution_count": null,
   "metadata": {},
   "outputs": [],
   "source": [
    "plt.figure(figsize=(10, 2))\n",
    "sns.boxplot(x=df['log_land_area'])\n",
    "plt.title('Boxplot of Land Area')\n",
    "plt.xlabel('Land Area')\n",
    "plt.tight_layout()\n",
    "plt.show()"
   ]
  },
  {
   "cell_type": "markdown",
   "metadata": {},
   "source": [
    "- Outlier Handling with IQR Method"
   ]
  },
  {
   "cell_type": "code",
   "execution_count": null,
   "metadata": {},
   "outputs": [],
   "source": [
    "Q1 = df['log_land_area'].quantile(0.25)\n",
    "Q3 = df['log_land_area'].quantile(0.75)\n",
    "\n",
    "# Menghitung Interquartile Range (IQR)\n",
    "IQR = Q3 - Q1\n",
    "\n",
    "# Menentukan ambang batas minimum untuk gaji\n",
    "min_threshold = 0\n",
    "\n",
    "# Menghitung batas bawah, dan memastikannya tidak negatif\n",
    "lower_bound = max(Q1 - 1.5 * IQR, min_threshold)\n",
    "\n",
    "# Menghitung batas atas\n",
    "upper_bound = Q3 + 1.5 * IQR\n",
    "\n",
    "print('lower_bound: ',lower_bound)\n",
    "print('upper_bound: ', upper_bound)"
   ]
  },
  {
   "cell_type": "code",
   "execution_count": null,
   "metadata": {},
   "outputs": [],
   "source": [
    "df = df[(df['log_land_area'] >= lower_bound) & (df['log_land_area'] <= upper_bound)]"
   ]
  },
  {
   "cell_type": "markdown",
   "metadata": {},
   "source": [
    "- Data After Outlier Handling"
   ]
  },
  {
   "cell_type": "code",
   "execution_count": null,
   "metadata": {},
   "outputs": [],
   "source": [
    "df['log_land_area'].describe()"
   ]
  },
  {
   "cell_type": "code",
   "execution_count": null,
   "metadata": {},
   "outputs": [],
   "source": [
    "plt.figure(figsize=(15, 2))\n",
    "sns.boxplot(x=df['log_land_area'])\n",
    "plt.title('Boxplot of Land Area')\n",
    "plt.xlabel('Land Area')\n",
    "plt.tight_layout()\n",
    "plt.show()"
   ]
  },
  {
   "cell_type": "code",
   "execution_count": null,
   "metadata": {},
   "outputs": [],
   "source": [
    "plt.figure(figsize=(10, 6))\n",
    "sns.scatterplot(data=df, x=df.index, y='log_land_area', alpha=0.5)\n",
    "plt.title('Scatter Plot of Land Area')\n",
    "plt.xlabel('Index')\n",
    "plt.ylabel('Land Area')\n",
    "plt.grid(True)\n",
    "plt.tight_layout()\n",
    "plt.show()"
   ]
  },
  {
   "cell_type": "code",
   "execution_count": null,
   "metadata": {},
   "outputs": [],
   "source": [
    "df.info()"
   ]
  },
  {
   "cell_type": "markdown",
   "metadata": {},
   "source": [
    "### Outlier Handling of Price Total Column"
   ]
  },
  {
   "cell_type": "markdown",
   "metadata": {},
   "source": [
    "- Data Before Outlier Handling"
   ]
  },
  {
   "cell_type": "code",
   "execution_count": null,
   "metadata": {},
   "outputs": [],
   "source": [
    "df['price_total'].describe()"
   ]
  },
  {
   "cell_type": "code",
   "execution_count": null,
   "metadata": {},
   "outputs": [],
   "source": [
    "plt.figure(figsize=(10, 2))\n",
    "sns.boxplot(x=df['price_total'])\n",
    "plt.title('Boxplot Price Total')\n",
    "plt.xlabel('Price Total')\n",
    "plt.gca().xaxis.set_major_formatter(formatter)\n",
    "plt.tight_layout()\n",
    "plt.show()"
   ]
  },
  {
   "cell_type": "code",
   "execution_count": null,
   "metadata": {},
   "outputs": [],
   "source": [
    "plt.figure(figsize=(10, 6))\n",
    "sns.scatterplot(data=df, x=df.index, y='price_total', alpha=0.5)\n",
    "plt.title('Scatter Plot of Total Price')\n",
    "plt.xlabel('Index')\n",
    "plt.ylabel('Total Price')\n",
    "plt.grid(True)\n",
    "plt.gca().yaxis.set_major_formatter(formatter)\n",
    "plt.tight_layout()\n",
    "plt.show()"
   ]
  },
  {
   "cell_type": "markdown",
   "metadata": {},
   "source": [
    "- Make Log Function for Price Total"
   ]
  },
  {
   "cell_type": "code",
   "execution_count": null,
   "metadata": {},
   "outputs": [],
   "source": [
    "df['log_price_total'] = np.log(df['price_total'])\n",
    "df.head()"
   ]
  },
  {
   "cell_type": "code",
   "execution_count": null,
   "metadata": {},
   "outputs": [],
   "source": [
    "plt.figure(figsize=(10, 2))\n",
    "sns.boxplot(x=df['log_price_total'])\n",
    "plt.title('Boxplot of Price Total')\n",
    "plt.xlabel('Price Total')\n",
    "plt.tight_layout()\n",
    "plt.show()"
   ]
  },
  {
   "cell_type": "markdown",
   "metadata": {},
   "source": [
    "- Outlier Handling with IQR Method"
   ]
  },
  {
   "cell_type": "code",
   "execution_count": null,
   "metadata": {},
   "outputs": [],
   "source": [
    "Q1 = df['log_price_total'].quantile(0.25)\n",
    "Q3 = df['log_price_total'].quantile(0.75)\n",
    "\n",
    "# Menghitung Interquartile Range (IQR)\n",
    "IQR = Q3 - Q1\n",
    "\n",
    "# Menentukan ambang batas minimum untuk gaji\n",
    "min_threshold = 0\n",
    "\n",
    "# Menghitung batas bawah, dan memastikannya tidak negatif\n",
    "lower_bound = max(Q1 - 1.5 * IQR, min_threshold)\n",
    "\n",
    "# Menghitung batas atas\n",
    "upper_bound = Q3 + 1.5 * IQR\n",
    "\n",
    "print('lower_bound: ',lower_bound)\n",
    "print('upper_bound: ', upper_bound)"
   ]
  },
  {
   "cell_type": "code",
   "execution_count": null,
   "metadata": {},
   "outputs": [],
   "source": [
    "df = df[(df['log_price_total'] >= lower_bound) & (df['log_price_total'] <= upper_bound)]"
   ]
  },
  {
   "cell_type": "markdown",
   "metadata": {},
   "source": [
    "- Data After Outlier Handling"
   ]
  },
  {
   "cell_type": "code",
   "execution_count": null,
   "metadata": {},
   "outputs": [],
   "source": [
    "df['log_price_total'].describe()"
   ]
  },
  {
   "cell_type": "code",
   "execution_count": null,
   "metadata": {},
   "outputs": [],
   "source": [
    "plt.figure(figsize=(15, 2))\n",
    "sns.boxplot(x=df['log_price_total'])\n",
    "plt.title('Boxplot of Price Total')\n",
    "plt.xlabel('Price Total')\n",
    "plt.tight_layout()\n",
    "plt.show()"
   ]
  },
  {
   "cell_type": "code",
   "execution_count": null,
   "metadata": {},
   "outputs": [],
   "source": [
    "plt.figure(figsize=(10, 6))\n",
    "sns.scatterplot(data=df, x=df.index, y='log_price_total', alpha=0.5)\n",
    "plt.title('Scatter Plot of Total Price')\n",
    "plt.xlabel('Index')\n",
    "plt.ylabel('Total Price')\n",
    "plt.grid(True)\n",
    "plt.tight_layout()\n",
    "plt.show()"
   ]
  },
  {
   "cell_type": "code",
   "execution_count": null,
   "metadata": {},
   "outputs": [],
   "source": [
    "df.info()"
   ]
  },
  {
   "cell_type": "markdown",
   "metadata": {},
   "source": [
    "### Outlier Handling of Price Per m2"
   ]
  },
  {
   "cell_type": "markdown",
   "metadata": {},
   "source": [
    "- Data Before Outlier Handling"
   ]
  },
  {
   "cell_type": "code",
   "execution_count": null,
   "metadata": {},
   "outputs": [],
   "source": [
    "df['price_per_m2'].describe()"
   ]
  },
  {
   "cell_type": "code",
   "execution_count": null,
   "metadata": {},
   "outputs": [],
   "source": [
    "plt.figure(figsize=(10, 2))\n",
    "sns.boxplot(x=df['price_per_m2'])\n",
    "plt.title('Boxplot of Price per m2')\n",
    "plt.xlabel('Price per m2')\n",
    "plt.gca().xaxis.set_major_formatter(formatter)\n",
    "plt.tight_layout()\n",
    "plt.show()"
   ]
  },
  {
   "cell_type": "code",
   "execution_count": null,
   "metadata": {},
   "outputs": [],
   "source": [
    "plt.figure(figsize=(10, 6))\n",
    "sns.scatterplot(data=df, x=df.index, y='price_per_m2', alpha=0.5)\n",
    "plt.title('Scatter Plot of Price per m2')\n",
    "plt.xlabel('Index')\n",
    "plt.ylabel('Price per m2')\n",
    "plt.grid(True)\n",
    "plt.gca().yaxis.set_major_formatter(formatter)\n",
    "plt.tight_layout()\n",
    "plt.show()"
   ]
  },
  {
   "cell_type": "markdown",
   "metadata": {},
   "source": [
    "- Log Function for Price Per m2"
   ]
  },
  {
   "cell_type": "code",
   "execution_count": null,
   "metadata": {},
   "outputs": [],
   "source": [
    "df['log_price_per_m2'] = np.log(df['price_per_m2'])\n",
    "df.head()"
   ]
  },
  {
   "cell_type": "code",
   "execution_count": null,
   "metadata": {},
   "outputs": [],
   "source": [
    "plt.figure(figsize=(10, 2))\n",
    "sns.boxplot(x=df['log_price_per_m2'])\n",
    "plt.title('Boxplot of Price per m2')\n",
    "plt.xlabel('Price per m2')\n",
    "plt.tight_layout()\n",
    "plt.show()"
   ]
  },
  {
   "cell_type": "markdown",
   "metadata": {},
   "source": [
    "- Outlier Handling with IQR Method"
   ]
  },
  {
   "cell_type": "code",
   "execution_count": null,
   "metadata": {},
   "outputs": [],
   "source": [
    "Q1 = df['log_price_per_m2'].quantile(0.25)\n",
    "Q3 = df['log_price_per_m2'].quantile(0.75)\n",
    "\n",
    "# Menghitung Interquartile Range (IQR)\n",
    "IQR = Q3 - Q1\n",
    "\n",
    "# Menentukan ambang batas minimum untuk gaji\n",
    "min_threshold = 0\n",
    "\n",
    "# Menghitung batas bawah, dan memastikannya tidak negatif\n",
    "lower_bound = max(Q1 - 1.5 * IQR, min_threshold)\n",
    "\n",
    "# Menghitung batas atas\n",
    "upper_bound = Q3 + 1.5 * IQR\n",
    "\n",
    "print('lower_bound: ',lower_bound)\n",
    "print('upper_bound: ', upper_bound)"
   ]
  },
  {
   "cell_type": "code",
   "execution_count": null,
   "metadata": {},
   "outputs": [],
   "source": [
    "df = df[(df['log_price_per_m2'] >= lower_bound) & (df['log_price_per_m2'] <= upper_bound)]"
   ]
  },
  {
   "cell_type": "code",
   "execution_count": null,
   "metadata": {},
   "outputs": [],
   "source": [
    "df['log_price_per_m2'].describe()"
   ]
  },
  {
   "cell_type": "code",
   "execution_count": null,
   "metadata": {},
   "outputs": [],
   "source": [
    "plt.figure(figsize=(10, 2))\n",
    "sns.boxplot(x=df['log_price_per_m2'])\n",
    "plt.title('Boxplot of Price per m2')\n",
    "plt.xlabel('Price per m2')\n",
    "plt.tight_layout()\n",
    "plt.show()"
   ]
  },
  {
   "cell_type": "code",
   "execution_count": null,
   "metadata": {},
   "outputs": [],
   "source": [
    "plt.figure(figsize=(10, 6))\n",
    "sns.scatterplot(data=df, x=df.index, y='log_price_per_m2', alpha=0.5)\n",
    "plt.title('Scatter Plot of Price per m2')\n",
    "plt.xlabel('Index')\n",
    "plt.ylabel('Price per m2')\n",
    "plt.grid(True)\n",
    "plt.tight_layout()\n",
    "plt.show()"
   ]
  },
  {
   "cell_type": "code",
   "execution_count": null,
   "metadata": {},
   "outputs": [],
   "source": [
    "df.info()"
   ]
  },
  {
   "cell_type": "code",
   "execution_count": null,
   "metadata": {},
   "outputs": [],
   "source": [
    "df['log_price_per_m2'].describe()"
   ]
  },
  {
   "cell_type": "code",
   "execution_count": null,
   "metadata": {},
   "outputs": [],
   "source": [
    "df.head()"
   ]
  },
  {
   "cell_type": "code",
   "execution_count": null,
   "metadata": {},
   "outputs": [],
   "source": [
    "filtered_df = df[(df['log_land_area'] > 0) & (df['log_price_total'] > 0) & (df['price_per_m2'] > 0)]\n",
    "df = filtered_df\n",
    "\n",
    "df.head()"
   ]
  },
  {
   "cell_type": "markdown",
   "metadata": {},
   "source": [
    "# Data Transformation"
   ]
  },
  {
   "cell_type": "markdown",
   "metadata": {},
   "source": [
    "### Convert Date Column to Datetime Datatype"
   ]
  },
  {
   "cell_type": "code",
   "execution_count": null,
   "metadata": {},
   "outputs": [],
   "source": [
    "df['date'] = pd.to_datetime(df['date'])\n",
    "\n",
    "df_date_conv = df.copy()\n",
    "df_date_conv.head()"
   ]
  },
  {
   "cell_type": "code",
   "execution_count": null,
   "metadata": {},
   "outputs": [],
   "source": [
    "df_date_conv.info()"
   ]
  },
  {
   "cell_type": "markdown",
   "metadata": {},
   "source": [
    "- Backup Dataframe"
   ]
  },
  {
   "cell_type": "code",
   "execution_count": null,
   "metadata": {},
   "outputs": [],
   "source": [
    "df = df_date_conv.copy()\n",
    "df.head()"
   ]
  },
  {
   "cell_type": "markdown",
   "metadata": {},
   "source": [
    "# Feature Engineering"
   ]
  },
  {
   "cell_type": "markdown",
   "metadata": {},
   "source": [
    "### Check Dataframe"
   ]
  },
  {
   "cell_type": "code",
   "execution_count": null,
   "metadata": {},
   "outputs": [],
   "source": [
    "df.head()"
   ]
  },
  {
   "cell_type": "markdown",
   "metadata": {},
   "source": [
    "### Check Land Area Column"
   ]
  },
  {
   "cell_type": "code",
   "execution_count": null,
   "metadata": {},
   "outputs": [],
   "source": [
    "df['land_area'].describe()"
   ]
  },
  {
   "cell_type": "markdown",
   "metadata": {},
   "source": [
    "### Make New Feature Based on Land Area"
   ]
  },
  {
   "cell_type": "code",
   "execution_count": null,
   "metadata": {},
   "outputs": [],
   "source": [
    "bins = [0, 400, 2770, float('inf')]\n",
    "labels = ['small', 'medium', 'large']\n",
    "df['land_area_cat'] = pd.cut(df['land_area'], bins=bins, labels=labels)\n",
    "\n",
    "df.sort_values(by='land_area', ascending=True)"
   ]
  },
  {
   "cell_type": "markdown",
   "metadata": {},
   "source": [
    "# Export Dataframe to MongoDB"
   ]
  },
  {
   "cell_type": "markdown",
   "metadata": {},
   "source": [
    "- Import Module"
   ]
  },
  {
   "cell_type": "code",
   "execution_count": null,
   "metadata": {},
   "outputs": [],
   "source": [
    "from scripts import load_data_to_mongo"
   ]
  },
  {
   "cell_type": "markdown",
   "metadata": {},
   "source": [
    "- Export Data to MongoDB"
   ]
  },
  {
   "cell_type": "code",
   "execution_count": null,
   "metadata": {},
   "outputs": [],
   "source": [
    "data = df.to_dict(orient='index')"
   ]
  },
  {
   "cell_type": "code",
   "execution_count": null,
   "metadata": {},
   "outputs": [],
   "source": [
    "load_data_to_mongo.load_to_mongo(data, 'clean')"
   ]
  },
  {
   "cell_type": "code",
   "execution_count": null,
   "metadata": {},
   "outputs": [],
   "source": []
  }
 ],
 "metadata": {
  "kernelspec": {
   "display_name": "Python 3",
   "language": "python",
   "name": "python3"
  },
  "language_info": {
   "codemirror_mode": {
    "name": "ipython",
    "version": 3
   },
   "file_extension": ".py",
   "mimetype": "text/x-python",
   "name": "python",
   "nbconvert_exporter": "python",
   "pygments_lexer": "ipython3",
   "version": "3.11.1"
  }
 },
 "nbformat": 4,
 "nbformat_minor": 2
}
